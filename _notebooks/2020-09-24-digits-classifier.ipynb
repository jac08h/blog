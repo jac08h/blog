{
 "cells": [
  {
   "cell_type": "markdown",
   "metadata": {},
   "source": [
    "# Recognizing hand-written digits - SGD from scratch\n",
    "> Classify digits from MNIST dataset using a Stochastic Gradient Descent\n",
    "\n",
    "- categories: [programming, fastai]\n",
    "- comments: true\n",
    "- toc: true"
   ]
  },
  {
   "cell_type": "markdown",
   "metadata": {},
   "source": [
    "Inspired by [chapter 4](https://github.com/fastai/fastbook/blob/master/04_mnist_basics.ipynb) in [The fastai book](https://github.com/fastai/fastbook). Check it out for more detailed description of the steps.\n",
    "\n",
    "The book discusses problem of classifying 3s and 7s. Here, I tackle the same classification, but with all ten digits."
   ]
  },
  {
   "cell_type": "markdown",
   "metadata": {},
   "source": [
    "## Objective\n",
    "Design a model that can classify hand-written digits from MNIST dataset."
   ]
  },
  {
   "cell_type": "markdown",
   "metadata": {},
   "source": [
    "## Steps"
   ]
  },
  {
   "cell_type": "markdown",
   "metadata": {},
   "source": [
    "### Download, sort, show"
   ]
  },
  {
   "cell_type": "code",
   "execution_count": 2,
   "metadata": {},
   "outputs": [],
   "source": [
    "#hide\n",
    "from fastai.vision.all import *\n",
    "from utils import *\n",
    "from fastbook import *\n",
    "\n",
    "from math import inf\n",
    "\n",
    "matplotlib.rc('image', cmap='Greys')"
   ]
  },
  {
   "cell_type": "markdown",
   "metadata": {},
   "source": [
    "Download the dataset."
   ]
  },
  {
   "cell_type": "code",
   "execution_count": 3,
   "metadata": {},
   "outputs": [],
   "source": [
    "path = untar_data(URLs.MNIST)"
   ]
  },
  {
   "cell_type": "code",
   "execution_count": 4,
   "metadata": {},
   "outputs": [],
   "source": [
    "# hide\n",
    "Path.BASE_PATH = path"
   ]
  },
  {
   "cell_type": "code",
   "execution_count": 5,
   "metadata": {},
   "outputs": [
    {
     "data": {
      "text/plain": [
       "(#10) [Path('training/0'),Path('training/2'),Path('training/9'),Path('training/8'),Path('training/7'),Path('training/1'),Path('training/5'),Path('training/4'),Path('training/6'),Path('training/3')]"
      ]
     },
     "execution_count": 5,
     "metadata": {},
     "output_type": "execute_result"
    }
   ],
   "source": [
    "(path/'training').ls()"
   ]
  },
  {
   "cell_type": "markdown",
   "metadata": {},
   "source": [
    "Store the image paths to a nested list.\n",
    "We can access the images for every digit by indexing the container. Since the python indexing starts from 0, the indexes conveniently follow the underlying digits."
   ]
  },
  {
   "cell_type": "code",
   "execution_count": 6,
   "metadata": {},
   "outputs": [],
   "source": [
    "digits = []\n",
    "for i in range(10):\n",
    "    current_digit_path = (path/'training'/str(i))\n",
    "    current_digit = current_digit_path.ls().sorted()\n",
    "    digits.append(current_digit)"
   ]
  },
  {
   "cell_type": "code",
   "execution_count": 7,
   "metadata": {},
   "outputs": [
    {
     "data": {
      "image/png": "[encoded data removed]",
      "text/plain": [
       "<PIL.PngImagePlugin.PngImageFile image mode=L size=28x28 at 0x7FE9B865A8B0>"
      ]
     },
     "execution_count": 7,
     "metadata": {},
     "output_type": "execute_result"
    }
   ],
   "source": [
    "twos = digits[2]\n",
    "im2_path = twos[1]\n",
    "im2 = Image.open(im2_path)\n",
    "im2 "
   ]
  },
  {
   "cell_type": "markdown",
   "metadata": {},
   "source": [
    "The images are represented by pixels, each of which holds the value from 0 (black) to 255 (white), with gradients of grey between. For example, 20 would be *almost* black."
   ]
  },
  {
   "cell_type": "markdown",
   "metadata": {},
   "source": [
    "We can see the underlying representation of images by converting them to NumPy array..."
   ]
  },
  {
   "cell_type": "code",
   "execution_count": 8,
   "metadata": {},
   "outputs": [
    {
     "data": {
      "text/plain": [
       "array([[  0,   0,   0,   0,   0,   0],\n",
       "       [  0,   0,   0,  81, 131, 152],\n",
       "       [  0,   0,  14, 209, 253, 242],\n",
       "       [  0,   0,  25, 228,  95,   0],\n",
       "       [  0,   0,  11,  41,   0,   0]], dtype=uint8)"
      ]
     },
     "execution_count": 8,
     "metadata": {},
     "output_type": "execute_result"
    }
   ],
   "source": [
    "array(im2)[2:7,6:12]"
   ]
  },
  {
   "cell_type": "markdown",
   "metadata": {},
   "source": [
    "...or by creating a Pandas dataframe from tensor, and then plotting the grey-scale using the pixel values."
   ]
  },
  {
   "cell_type": "code",
   "execution_count": 9,
   "metadata": {},
   "outputs": [
    {
     "data": {
      "text/html": [
       "<style  type=\"text/css\" >\n",
       "#T_b5b971e0_0254_11eb_bcbe_0242ac110002row0_col0,#T_b5b971e0_0254_11eb_bcbe_0242ac110002row0_col1,#T_b5b971e0_0254_11eb_bcbe_0242ac110002row0_col2,#T_b5b971e0_0254_11eb_bcbe_0242ac110002row0_col3,#T_b5b971e0_0254_11eb_bcbe_0242ac110002row0_col4,#T_b5b971e0_0254_11eb_bcbe_0242ac110002row0_col5,#T_b5b971e0_0254_11eb_bcbe_0242ac110002row0_col6,#T_b5b971e0_0254_11eb_bcbe_0242ac110002row0_col7,#T_b5b971e0_0254_11eb_bcbe_0242ac110002row0_col8,#T_b5b971e0_0254_11eb_bcbe_0242ac110002row0_col9,#T_b5b971e0_0254_11eb_bcbe_0242ac110002row0_col10,#T_b5b971e0_0254_11eb_bcbe_0242ac110002row0_col11,#T_b5b971e0_0254_11eb_bcbe_0242ac110002row0_col12,#T_b5b971e0_0254_11eb_bcbe_0242ac110002row0_col13,#T_b5b971e0_0254_11eb_bcbe_0242ac110002row1_col0,#T_b5b971e0_0254_11eb_bcbe_0242ac110002row1_col1,#T_b5b971e0_0254_11eb_bcbe_0242ac110002row1_col2,#T_b5b971e0_0254_11eb_bcbe_0242ac110002row1_col11,#T_b5b971e0_0254_11eb_bcbe_0242ac110002row1_col12,#T_b5b971e0_0254_11eb_bcbe_0242ac110002row1_col13,#T_b5b971e0_0254_11eb_bcbe_0242ac110002row2_col0,#T_b5b971e0_0254_11eb_bcbe_0242ac110002row2_col1,#T_b5b971e0_0254_11eb_bcbe_0242ac110002row2_col12,#T_b5b971e0_0254_11eb_bcbe_0242ac110002row2_col13,#T_b5b971e0_0254_11eb_bcbe_0242ac110002row3_col0,#T_b5b971e0_0254_11eb_bcbe_0242ac110002row3_col1,#T_b5b971e0_0254_11eb_bcbe_0242ac110002row3_col5,#T_b5b971e0_0254_11eb_bcbe_0242ac110002row3_col6,#T_b5b971e0_0254_11eb_bcbe_0242ac110002row3_col7,#T_b5b971e0_0254_11eb_bcbe_0242ac110002row3_col13,#T_b5b971e0_0254_11eb_bcbe_0242ac110002row4_col0,#T_b5b971e0_0254_11eb_bcbe_0242ac110002row4_col1,#T_b5b971e0_0254_11eb_bcbe_0242ac110002row4_col4,#T_b5b971e0_0254_11eb_bcbe_0242ac110002row4_col5,#T_b5b971e0_0254_11eb_bcbe_0242ac110002row4_col6,#T_b5b971e0_0254_11eb_bcbe_0242ac110002row4_col7,#T_b5b971e0_0254_11eb_bcbe_0242ac110002row4_col8,#T_b5b971e0_0254_11eb_bcbe_0242ac110002row5_col0,#T_b5b971e0_0254_11eb_bcbe_0242ac110002row5_col1,#T_b5b971e0_0254_11eb_bcbe_0242ac110002row5_col2,#T_b5b971e0_0254_11eb_bcbe_0242ac110002row5_col3,#T_b5b971e0_0254_11eb_bcbe_0242ac110002row5_col4,#T_b5b971e0_0254_11eb_bcbe_0242ac110002row5_col5,#T_b5b971e0_0254_11eb_bcbe_0242ac110002row5_col6,#T_b5b971e0_0254_11eb_bcbe_0242ac110002row5_col7,#T_b5b971e0_0254_11eb_bcbe_0242ac110002row5_col8,#T_b5b971e0_0254_11eb_bcbe_0242ac110002row5_col9,#T_b5b971e0_0254_11eb_bcbe_0242ac110002row6_col0,#T_b5b971e0_0254_11eb_bcbe_0242ac110002row6_col1,#T_b5b971e0_0254_11eb_bcbe_0242ac110002row6_col2,#T_b5b971e0_0254_11eb_bcbe_0242ac110002row6_col3,#T_b5b971e0_0254_11eb_bcbe_0242ac110002row6_col4,#T_b5b971e0_0254_11eb_bcbe_0242ac110002row6_col5,#T_b5b971e0_0254_11eb_bcbe_0242ac110002row6_col6,#T_b5b971e0_0254_11eb_bcbe_0242ac110002row6_col7,#T_b5b971e0_0254_11eb_bcbe_0242ac110002row6_col8,#T_b5b971e0_0254_11eb_bcbe_0242ac110002row6_col9,#T_b5b971e0_0254_11eb_bcbe_0242ac110002row7_col0,#T_b5b971e0_0254_11eb_bcbe_0242ac110002row7_col1,#T_b5b971e0_0254_11eb_bcbe_0242ac110002row7_col2,#T_b5b971e0_0254_11eb_bcbe_0242ac110002row7_col3,#T_b5b971e0_0254_11eb_bcbe_0242ac110002row7_col4,#T_b5b971e0_0254_11eb_bcbe_0242ac110002row7_col5,#T_b5b971e0_0254_11eb_bcbe_0242ac110002row7_col6,#T_b5b971e0_0254_11eb_bcbe_0242ac110002row7_col7,#T_b5b971e0_0254_11eb_bcbe_0242ac110002row7_col8,#T_b5b971e0_0254_11eb_bcbe_0242ac110002row7_col9,#T_b5b971e0_0254_11eb_bcbe_0242ac110002row7_col10,#T_b5b971e0_0254_11eb_bcbe_0242ac110002row8_col0,#T_b5b971e0_0254_11eb_bcbe_0242ac110002row8_col1,#T_b5b971e0_0254_11eb_bcbe_0242ac110002row8_col2,#T_b5b971e0_0254_11eb_bcbe_0242ac110002row8_col3,#T_b5b971e0_0254_11eb_bcbe_0242ac110002row8_col4,#T_b5b971e0_0254_11eb_bcbe_0242ac110002row8_col5,#T_b5b971e0_0254_11eb_bcbe_0242ac110002row8_col6,#T_b5b971e0_0254_11eb_bcbe_0242ac110002row8_col7,#T_b5b971e0_0254_11eb_bcbe_0242ac110002row8_col8,#T_b5b971e0_0254_11eb_bcbe_0242ac110002row8_col9,#T_b5b971e0_0254_11eb_bcbe_0242ac110002row8_col10,#T_b5b971e0_0254_11eb_bcbe_0242ac110002row9_col0,#T_b5b971e0_0254_11eb_bcbe_0242ac110002row9_col1,#T_b5b971e0_0254_11eb_bcbe_0242ac110002row9_col2,#T_b5b971e0_0254_11eb_bcbe_0242ac110002row9_col3,#T_b5b971e0_0254_11eb_bcbe_0242ac110002row9_col4,#T_b5b971e0_0254_11eb_bcbe_0242ac110002row9_col5,#T_b5b971e0_0254_11eb_bcbe_0242ac110002row9_col6,#T_b5b971e0_0254_11eb_bcbe_0242ac110002row9_col7,#T_b5b971e0_0254_11eb_bcbe_0242ac110002row9_col8,#T_b5b971e0_0254_11eb_bcbe_0242ac110002row9_col9,#T_b5b971e0_0254_11eb_bcbe_0242ac110002row9_col10,#T_b5b971e0_0254_11eb_bcbe_0242ac110002row10_col0,#T_b5b971e0_0254_11eb_bcbe_0242ac110002row10_col1,#T_b5b971e0_0254_11eb_bcbe_0242ac110002row10_col2,#T_b5b971e0_0254_11eb_bcbe_0242ac110002row10_col3,#T_b5b971e0_0254_11eb_bcbe_0242ac110002row10_col4,#T_b5b971e0_0254_11eb_bcbe_0242ac110002row10_col5,#T_b5b971e0_0254_11eb_bcbe_0242ac110002row10_col6,#T_b5b971e0_0254_11eb_bcbe_0242ac110002row10_col7,#T_b5b971e0_0254_11eb_bcbe_0242ac110002row10_col8,#T_b5b971e0_0254_11eb_bcbe_0242ac110002row10_col9,#T_b5b971e0_0254_11eb_bcbe_0242ac110002row10_col10,#T_b5b971e0_0254_11eb_bcbe_0242ac110002row11_col0,#T_b5b971e0_0254_11eb_bcbe_0242ac110002row11_col1,#T_b5b971e0_0254_11eb_bcbe_0242ac110002row11_col2,#T_b5b971e0_0254_11eb_bcbe_0242ac110002row11_col3,#T_b5b971e0_0254_11eb_bcbe_0242ac110002row11_col4,#T_b5b971e0_0254_11eb_bcbe_0242ac110002row11_col5,#T_b5b971e0_0254_11eb_bcbe_0242ac110002row11_col6,#T_b5b971e0_0254_11eb_bcbe_0242ac110002row11_col7,#T_b5b971e0_0254_11eb_bcbe_0242ac110002row11_col8,#T_b5b971e0_0254_11eb_bcbe_0242ac110002row11_col9,#T_b5b971e0_0254_11eb_bcbe_0242ac110002row11_col10,#T_b5b971e0_0254_11eb_bcbe_0242ac110002row12_col0,#T_b5b971e0_0254_11eb_bcbe_0242ac110002row12_col1,#T_b5b971e0_0254_11eb_bcbe_0242ac110002row12_col2,#T_b5b971e0_0254_11eb_bcbe_0242ac110002row12_col3,#T_b5b971e0_0254_11eb_bcbe_0242ac110002row12_col4,#T_b5b971e0_0254_11eb_bcbe_0242ac110002row12_col5,#T_b5b971e0_0254_11eb_bcbe_0242ac110002row12_col6,#T_b5b971e0_0254_11eb_bcbe_0242ac110002row12_col7,#T_b5b971e0_0254_11eb_bcbe_0242ac110002row12_col8,#T_b5b971e0_0254_11eb_bcbe_0242ac110002row12_col9{\n",
       "            font-size:  6pt;\n",
       "            background-color:  #ffffff;\n",
       "            color:  #000000;\n",
       "        }#T_b5b971e0_0254_11eb_bcbe_0242ac110002row1_col3{\n",
       "            font-size:  6pt;\n",
       "            background-color:  #c2c2c2;\n",
       "            color:  #000000;\n",
       "        }#T_b5b971e0_0254_11eb_bcbe_0242ac110002row1_col4{\n",
       "            font-size:  6pt;\n",
       "            background-color:  #919191;\n",
       "            color:  #000000;\n",
       "        }#T_b5b971e0_0254_11eb_bcbe_0242ac110002row1_col5{\n",
       "            font-size:  6pt;\n",
       "            background-color:  #727272;\n",
       "            color:  #000000;\n",
       "        }#T_b5b971e0_0254_11eb_bcbe_0242ac110002row1_col6,#T_b5b971e0_0254_11eb_bcbe_0242ac110002row1_col7{\n",
       "            font-size:  6pt;\n",
       "            background-color:  #3f3f3f;\n",
       "            color:  #f1f1f1;\n",
       "        }#T_b5b971e0_0254_11eb_bcbe_0242ac110002row1_col8{\n",
       "            font-size:  6pt;\n",
       "            background-color:  #1e1e1e;\n",
       "            color:  #f1f1f1;\n",
       "        }#T_b5b971e0_0254_11eb_bcbe_0242ac110002row1_col9{\n",
       "            font-size:  6pt;\n",
       "            background-color:  #bababa;\n",
       "            color:  #000000;\n",
       "        }#T_b5b971e0_0254_11eb_bcbe_0242ac110002row1_col10{\n",
       "            font-size:  6pt;\n",
       "            background-color:  #fdfdfd;\n",
       "            color:  #000000;\n",
       "        }#T_b5b971e0_0254_11eb_bcbe_0242ac110002row2_col2{\n",
       "            font-size:  6pt;\n",
       "            background-color:  #858585;\n",
       "            color:  #000000;\n",
       "        }#T_b5b971e0_0254_11eb_bcbe_0242ac110002row2_col3{\n",
       "            font-size:  6pt;\n",
       "            background-color:  #181818;\n",
       "            color:  #f1f1f1;\n",
       "        }#T_b5b971e0_0254_11eb_bcbe_0242ac110002row2_col4,#T_b5b971e0_0254_11eb_bcbe_0242ac110002row2_col5,#T_b5b971e0_0254_11eb_bcbe_0242ac110002row2_col6,#T_b5b971e0_0254_11eb_bcbe_0242ac110002row2_col7,#T_b5b971e0_0254_11eb_bcbe_0242ac110002row2_col8,#T_b5b971e0_0254_11eb_bcbe_0242ac110002row2_col9,#T_b5b971e0_0254_11eb_bcbe_0242ac110002row3_col2,#T_b5b971e0_0254_11eb_bcbe_0242ac110002row3_col3,#T_b5b971e0_0254_11eb_bcbe_0242ac110002row3_col10,#T_b5b971e0_0254_11eb_bcbe_0242ac110002row4_col11,#T_b5b971e0_0254_11eb_bcbe_0242ac110002row5_col11,#T_b5b971e0_0254_11eb_bcbe_0242ac110002row5_col12,#T_b5b971e0_0254_11eb_bcbe_0242ac110002row6_col12,#T_b5b971e0_0254_11eb_bcbe_0242ac110002row7_col12,#T_b5b971e0_0254_11eb_bcbe_0242ac110002row8_col12,#T_b5b971e0_0254_11eb_bcbe_0242ac110002row8_col13,#T_b5b971e0_0254_11eb_bcbe_0242ac110002row9_col12,#T_b5b971e0_0254_11eb_bcbe_0242ac110002row9_col13,#T_b5b971e0_0254_11eb_bcbe_0242ac110002row10_col12,#T_b5b971e0_0254_11eb_bcbe_0242ac110002row10_col13,#T_b5b971e0_0254_11eb_bcbe_0242ac110002row11_col12,#T_b5b971e0_0254_11eb_bcbe_0242ac110002row12_col12{\n",
       "            font-size:  6pt;\n",
       "            background-color:  #000000;\n",
       "            color:  #f1f1f1;\n",
       "        }#T_b5b971e0_0254_11eb_bcbe_0242ac110002row2_col10{\n",
       "            font-size:  6pt;\n",
       "            background-color:  #5a5a5a;\n",
       "            color:  #f1f1f1;\n",
       "        }#T_b5b971e0_0254_11eb_bcbe_0242ac110002row2_col11{\n",
       "            font-size:  6pt;\n",
       "            background-color:  #fbfbfb;\n",
       "            color:  #000000;\n",
       "        }#T_b5b971e0_0254_11eb_bcbe_0242ac110002row3_col4{\n",
       "            font-size:  6pt;\n",
       "            background-color:  #bdbdbd;\n",
       "            color:  #000000;\n",
       "        }#T_b5b971e0_0254_11eb_bcbe_0242ac110002row3_col8,#T_b5b971e0_0254_11eb_bcbe_0242ac110002row11_col11{\n",
       "            font-size:  6pt;\n",
       "            background-color:  #a5a5a5;\n",
       "            color:  #000000;\n",
       "        }#T_b5b971e0_0254_11eb_bcbe_0242ac110002row3_col9{\n",
       "            font-size:  6pt;\n",
       "            background-color:  #050505;\n",
       "            color:  #f1f1f1;\n",
       "        }#T_b5b971e0_0254_11eb_bcbe_0242ac110002row3_col11{\n",
       "            font-size:  6pt;\n",
       "            background-color:  #292929;\n",
       "            color:  #f1f1f1;\n",
       "        }#T_b5b971e0_0254_11eb_bcbe_0242ac110002row3_col12,#T_b5b971e0_0254_11eb_bcbe_0242ac110002row12_col10{\n",
       "            font-size:  6pt;\n",
       "            background-color:  #f4f4f4;\n",
       "            color:  #000000;\n",
       "        }#T_b5b971e0_0254_11eb_bcbe_0242ac110002row4_col2{\n",
       "            font-size:  6pt;\n",
       "            background-color:  #a9a9a9;\n",
       "            color:  #000000;\n",
       "        }#T_b5b971e0_0254_11eb_bcbe_0242ac110002row4_col3{\n",
       "            font-size:  6pt;\n",
       "            background-color:  #e6e6e6;\n",
       "            color:  #000000;\n",
       "        }#T_b5b971e0_0254_11eb_bcbe_0242ac110002row4_col9{\n",
       "            font-size:  6pt;\n",
       "            background-color:  #cbcbcb;\n",
       "            color:  #000000;\n",
       "        }#T_b5b971e0_0254_11eb_bcbe_0242ac110002row4_col10{\n",
       "            font-size:  6pt;\n",
       "            background-color:  #363636;\n",
       "            color:  #f1f1f1;\n",
       "        }#T_b5b971e0_0254_11eb_bcbe_0242ac110002row4_col12{\n",
       "            font-size:  6pt;\n",
       "            background-color:  #6a6a6a;\n",
       "            color:  #000000;\n",
       "        }#T_b5b971e0_0254_11eb_bcbe_0242ac110002row4_col13{\n",
       "            font-size:  6pt;\n",
       "            background-color:  #f5f5f5;\n",
       "            color:  #000000;\n",
       "        }#T_b5b971e0_0254_11eb_bcbe_0242ac110002row5_col10{\n",
       "            font-size:  6pt;\n",
       "            background-color:  #cfcfcf;\n",
       "            color:  #000000;\n",
       "        }#T_b5b971e0_0254_11eb_bcbe_0242ac110002row5_col13{\n",
       "            font-size:  6pt;\n",
       "            background-color:  #a8a8a8;\n",
       "            color:  #000000;\n",
       "        }#T_b5b971e0_0254_11eb_bcbe_0242ac110002row6_col10{\n",
       "            font-size:  6pt;\n",
       "            background-color:  #f2f2f2;\n",
       "            color:  #000000;\n",
       "        }#T_b5b971e0_0254_11eb_bcbe_0242ac110002row6_col11,#T_b5b971e0_0254_11eb_bcbe_0242ac110002row7_col13{\n",
       "            font-size:  6pt;\n",
       "            background-color:  #242424;\n",
       "            color:  #f1f1f1;\n",
       "        }#T_b5b971e0_0254_11eb_bcbe_0242ac110002row6_col13,#T_b5b971e0_0254_11eb_bcbe_0242ac110002row12_col13{\n",
       "            font-size:  6pt;\n",
       "            background-color:  #707070;\n",
       "            color:  #000000;\n",
       "        }#T_b5b971e0_0254_11eb_bcbe_0242ac110002row7_col11{\n",
       "            font-size:  6pt;\n",
       "            background-color:  #9a9a9a;\n",
       "            color:  #000000;\n",
       "        }#T_b5b971e0_0254_11eb_bcbe_0242ac110002row8_col11,#T_b5b971e0_0254_11eb_bcbe_0242ac110002row9_col11,#T_b5b971e0_0254_11eb_bcbe_0242ac110002row10_col11{\n",
       "            font-size:  6pt;\n",
       "            background-color:  #c9c9c9;\n",
       "            color:  #000000;\n",
       "        }#T_b5b971e0_0254_11eb_bcbe_0242ac110002row11_col13{\n",
       "            font-size:  6pt;\n",
       "            background-color:  #1d1d1d;\n",
       "            color:  #f1f1f1;\n",
       "        }#T_b5b971e0_0254_11eb_bcbe_0242ac110002row12_col11{\n",
       "            font-size:  6pt;\n",
       "            background-color:  #282828;\n",
       "            color:  #f1f1f1;\n",
       "        }</style><table id=\"T_b5b971e0_0254_11eb_bcbe_0242ac110002\" ><thead>    <tr>        <th class=\"blank level0\" ></th>        <th class=\"col_heading level0 col0\" >0</th>        <th class=\"col_heading level0 col1\" >1</th>        <th class=\"col_heading level0 col2\" >2</th>        <th class=\"col_heading level0 col3\" >3</th>        <th class=\"col_heading level0 col4\" >4</th>        <th class=\"col_heading level0 col5\" >5</th>        <th class=\"col_heading level0 col6\" >6</th>        <th class=\"col_heading level0 col7\" >7</th>        <th class=\"col_heading level0 col8\" >8</th>        <th class=\"col_heading level0 col9\" >9</th>        <th class=\"col_heading level0 col10\" >10</th>        <th class=\"col_heading level0 col11\" >11</th>        <th class=\"col_heading level0 col12\" >12</th>        <th class=\"col_heading level0 col13\" >13</th>    </tr></thead><tbody>\n",
       "                <tr>\n",
       "                        <th id=\"T_b5b971e0_0254_11eb_bcbe_0242ac110002level0_row0\" class=\"row_heading level0 row0\" >0</th>\n",
       "                        <td id=\"T_b5b971e0_0254_11eb_bcbe_0242ac110002row0_col0\" class=\"data row0 col0\" >0</td>\n",
       "                        <td id=\"T_b5b971e0_0254_11eb_bcbe_0242ac110002row0_col1\" class=\"data row0 col1\" >0</td>\n",
       "                        <td id=\"T_b5b971e0_0254_11eb_bcbe_0242ac110002row0_col2\" class=\"data row0 col2\" >0</td>\n",
       "                        <td id=\"T_b5b971e0_0254_11eb_bcbe_0242ac110002row0_col3\" class=\"data row0 col3\" >0</td>\n",
       "                        <td id=\"T_b5b971e0_0254_11eb_bcbe_0242ac110002row0_col4\" class=\"data row0 col4\" >0</td>\n",
       "                        <td id=\"T_b5b971e0_0254_11eb_bcbe_0242ac110002row0_col5\" class=\"data row0 col5\" >0</td>\n",
       "                        <td id=\"T_b5b971e0_0254_11eb_bcbe_0242ac110002row0_col6\" class=\"data row0 col6\" >0</td>\n",
       "                        <td id=\"T_b5b971e0_0254_11eb_bcbe_0242ac110002row0_col7\" class=\"data row0 col7\" >0</td>\n",
       "                        <td id=\"T_b5b971e0_0254_11eb_bcbe_0242ac110002row0_col8\" class=\"data row0 col8\" >0</td>\n",
       "                        <td id=\"T_b5b971e0_0254_11eb_bcbe_0242ac110002row0_col9\" class=\"data row0 col9\" >0</td>\n",
       "                        <td id=\"T_b5b971e0_0254_11eb_bcbe_0242ac110002row0_col10\" class=\"data row0 col10\" >0</td>\n",
       "                        <td id=\"T_b5b971e0_0254_11eb_bcbe_0242ac110002row0_col11\" class=\"data row0 col11\" >0</td>\n",
       "                        <td id=\"T_b5b971e0_0254_11eb_bcbe_0242ac110002row0_col12\" class=\"data row0 col12\" >0</td>\n",
       "                        <td id=\"T_b5b971e0_0254_11eb_bcbe_0242ac110002row0_col13\" class=\"data row0 col13\" >0</td>\n",
       "            </tr>\n",
       "            <tr>\n",
       "                        <th id=\"T_b5b971e0_0254_11eb_bcbe_0242ac110002level0_row1\" class=\"row_heading level0 row1\" >1</th>\n",
       "                        <td id=\"T_b5b971e0_0254_11eb_bcbe_0242ac110002row1_col0\" class=\"data row1 col0\" >0</td>\n",
       "                        <td id=\"T_b5b971e0_0254_11eb_bcbe_0242ac110002row1_col1\" class=\"data row1 col1\" >0</td>\n",
       "                        <td id=\"T_b5b971e0_0254_11eb_bcbe_0242ac110002row1_col2\" class=\"data row1 col2\" >0</td>\n",
       "                        <td id=\"T_b5b971e0_0254_11eb_bcbe_0242ac110002row1_col3\" class=\"data row1 col3\" >81</td>\n",
       "                        <td id=\"T_b5b971e0_0254_11eb_bcbe_0242ac110002row1_col4\" class=\"data row1 col4\" >131</td>\n",
       "                        <td id=\"T_b5b971e0_0254_11eb_bcbe_0242ac110002row1_col5\" class=\"data row1 col5\" >152</td>\n",
       "                        <td id=\"T_b5b971e0_0254_11eb_bcbe_0242ac110002row1_col6\" class=\"data row1 col6\" >194</td>\n",
       "                        <td id=\"T_b5b971e0_0254_11eb_bcbe_0242ac110002row1_col7\" class=\"data row1 col7\" >194</td>\n",
       "                        <td id=\"T_b5b971e0_0254_11eb_bcbe_0242ac110002row1_col8\" class=\"data row1 col8\" >225</td>\n",
       "                        <td id=\"T_b5b971e0_0254_11eb_bcbe_0242ac110002row1_col9\" class=\"data row1 col9\" >98</td>\n",
       "                        <td id=\"T_b5b971e0_0254_11eb_bcbe_0242ac110002row1_col10\" class=\"data row1 col10\" >5</td>\n",
       "                        <td id=\"T_b5b971e0_0254_11eb_bcbe_0242ac110002row1_col11\" class=\"data row1 col11\" >0</td>\n",
       "                        <td id=\"T_b5b971e0_0254_11eb_bcbe_0242ac110002row1_col12\" class=\"data row1 col12\" >0</td>\n",
       "                        <td id=\"T_b5b971e0_0254_11eb_bcbe_0242ac110002row1_col13\" class=\"data row1 col13\" >0</td>\n",
       "            </tr>\n",
       "            <tr>\n",
       "                        <th id=\"T_b5b971e0_0254_11eb_bcbe_0242ac110002level0_row2\" class=\"row_heading level0 row2\" >2</th>\n",
       "                        <td id=\"T_b5b971e0_0254_11eb_bcbe_0242ac110002row2_col0\" class=\"data row2 col0\" >0</td>\n",
       "                        <td id=\"T_b5b971e0_0254_11eb_bcbe_0242ac110002row2_col1\" class=\"data row2 col1\" >0</td>\n",
       "                        <td id=\"T_b5b971e0_0254_11eb_bcbe_0242ac110002row2_col2\" class=\"data row2 col2\" >14</td>\n",
       "                        <td id=\"T_b5b971e0_0254_11eb_bcbe_0242ac110002row2_col3\" class=\"data row2 col3\" >209</td>\n",
       "                        <td id=\"T_b5b971e0_0254_11eb_bcbe_0242ac110002row2_col4\" class=\"data row2 col4\" >253</td>\n",
       "                        <td id=\"T_b5b971e0_0254_11eb_bcbe_0242ac110002row2_col5\" class=\"data row2 col5\" >242</td>\n",
       "                        <td id=\"T_b5b971e0_0254_11eb_bcbe_0242ac110002row2_col6\" class=\"data row2 col6\" >242</td>\n",
       "                        <td id=\"T_b5b971e0_0254_11eb_bcbe_0242ac110002row2_col7\" class=\"data row2 col7\" >242</td>\n",
       "                        <td id=\"T_b5b971e0_0254_11eb_bcbe_0242ac110002row2_col8\" class=\"data row2 col8\" >251</td>\n",
       "                        <td id=\"T_b5b971e0_0254_11eb_bcbe_0242ac110002row2_col9\" class=\"data row2 col9\" >254</td>\n",
       "                        <td id=\"T_b5b971e0_0254_11eb_bcbe_0242ac110002row2_col10\" class=\"data row2 col10\" >183</td>\n",
       "                        <td id=\"T_b5b971e0_0254_11eb_bcbe_0242ac110002row2_col11\" class=\"data row2 col11\" >9</td>\n",
       "                        <td id=\"T_b5b971e0_0254_11eb_bcbe_0242ac110002row2_col12\" class=\"data row2 col12\" >0</td>\n",
       "                        <td id=\"T_b5b971e0_0254_11eb_bcbe_0242ac110002row2_col13\" class=\"data row2 col13\" >0</td>\n",
       "            </tr>\n",
       "            <tr>\n",
       "                        <th id=\"T_b5b971e0_0254_11eb_bcbe_0242ac110002level0_row3\" class=\"row_heading level0 row3\" >3</th>\n",
       "                        <td id=\"T_b5b971e0_0254_11eb_bcbe_0242ac110002row3_col0\" class=\"data row3 col0\" >0</td>\n",
       "                        <td id=\"T_b5b971e0_0254_11eb_bcbe_0242ac110002row3_col1\" class=\"data row3 col1\" >0</td>\n",
       "                        <td id=\"T_b5b971e0_0254_11eb_bcbe_0242ac110002row3_col2\" class=\"data row3 col2\" >25</td>\n",
       "                        <td id=\"T_b5b971e0_0254_11eb_bcbe_0242ac110002row3_col3\" class=\"data row3 col3\" >228</td>\n",
       "                        <td id=\"T_b5b971e0_0254_11eb_bcbe_0242ac110002row3_col4\" class=\"data row3 col4\" >95</td>\n",
       "                        <td id=\"T_b5b971e0_0254_11eb_bcbe_0242ac110002row3_col5\" class=\"data row3 col5\" >0</td>\n",
       "                        <td id=\"T_b5b971e0_0254_11eb_bcbe_0242ac110002row3_col6\" class=\"data row3 col6\" >0</td>\n",
       "                        <td id=\"T_b5b971e0_0254_11eb_bcbe_0242ac110002row3_col7\" class=\"data row3 col7\" >0</td>\n",
       "                        <td id=\"T_b5b971e0_0254_11eb_bcbe_0242ac110002row3_col8\" class=\"data row3 col8\" >113</td>\n",
       "                        <td id=\"T_b5b971e0_0254_11eb_bcbe_0242ac110002row3_col9\" class=\"data row3 col9\" >250</td>\n",
       "                        <td id=\"T_b5b971e0_0254_11eb_bcbe_0242ac110002row3_col10\" class=\"data row3 col10\" >254</td>\n",
       "                        <td id=\"T_b5b971e0_0254_11eb_bcbe_0242ac110002row3_col11\" class=\"data row3 col11\" >219</td>\n",
       "                        <td id=\"T_b5b971e0_0254_11eb_bcbe_0242ac110002row3_col12\" class=\"data row3 col12\" >24</td>\n",
       "                        <td id=\"T_b5b971e0_0254_11eb_bcbe_0242ac110002row3_col13\" class=\"data row3 col13\" >0</td>\n",
       "            </tr>\n",
       "            <tr>\n",
       "                        <th id=\"T_b5b971e0_0254_11eb_bcbe_0242ac110002level0_row4\" class=\"row_heading level0 row4\" >4</th>\n",
       "                        <td id=\"T_b5b971e0_0254_11eb_bcbe_0242ac110002row4_col0\" class=\"data row4 col0\" >0</td>\n",
       "                        <td id=\"T_b5b971e0_0254_11eb_bcbe_0242ac110002row4_col1\" class=\"data row4 col1\" >0</td>\n",
       "                        <td id=\"T_b5b971e0_0254_11eb_bcbe_0242ac110002row4_col2\" class=\"data row4 col2\" >11</td>\n",
       "                        <td id=\"T_b5b971e0_0254_11eb_bcbe_0242ac110002row4_col3\" class=\"data row4 col3\" >41</td>\n",
       "                        <td id=\"T_b5b971e0_0254_11eb_bcbe_0242ac110002row4_col4\" class=\"data row4 col4\" >0</td>\n",
       "                        <td id=\"T_b5b971e0_0254_11eb_bcbe_0242ac110002row4_col5\" class=\"data row4 col5\" >0</td>\n",
       "                        <td id=\"T_b5b971e0_0254_11eb_bcbe_0242ac110002row4_col6\" class=\"data row4 col6\" >0</td>\n",
       "                        <td id=\"T_b5b971e0_0254_11eb_bcbe_0242ac110002row4_col7\" class=\"data row4 col7\" >0</td>\n",
       "                        <td id=\"T_b5b971e0_0254_11eb_bcbe_0242ac110002row4_col8\" class=\"data row4 col8\" >0</td>\n",
       "                        <td id=\"T_b5b971e0_0254_11eb_bcbe_0242ac110002row4_col9\" class=\"data row4 col9\" >80</td>\n",
       "                        <td id=\"T_b5b971e0_0254_11eb_bcbe_0242ac110002row4_col10\" class=\"data row4 col10\" >210</td>\n",
       "                        <td id=\"T_b5b971e0_0254_11eb_bcbe_0242ac110002row4_col11\" class=\"data row4 col11\" >254</td>\n",
       "                        <td id=\"T_b5b971e0_0254_11eb_bcbe_0242ac110002row4_col12\" class=\"data row4 col12\" >167</td>\n",
       "                        <td id=\"T_b5b971e0_0254_11eb_bcbe_0242ac110002row4_col13\" class=\"data row4 col13\" >22</td>\n",
       "            </tr>\n",
       "            <tr>\n",
       "                        <th id=\"T_b5b971e0_0254_11eb_bcbe_0242ac110002level0_row5\" class=\"row_heading level0 row5\" >5</th>\n",
       "                        <td id=\"T_b5b971e0_0254_11eb_bcbe_0242ac110002row5_col0\" class=\"data row5 col0\" >0</td>\n",
       "                        <td id=\"T_b5b971e0_0254_11eb_bcbe_0242ac110002row5_col1\" class=\"data row5 col1\" >0</td>\n",
       "                        <td id=\"T_b5b971e0_0254_11eb_bcbe_0242ac110002row5_col2\" class=\"data row5 col2\" >0</td>\n",
       "                        <td id=\"T_b5b971e0_0254_11eb_bcbe_0242ac110002row5_col3\" class=\"data row5 col3\" >0</td>\n",
       "                        <td id=\"T_b5b971e0_0254_11eb_bcbe_0242ac110002row5_col4\" class=\"data row5 col4\" >0</td>\n",
       "                        <td id=\"T_b5b971e0_0254_11eb_bcbe_0242ac110002row5_col5\" class=\"data row5 col5\" >0</td>\n",
       "                        <td id=\"T_b5b971e0_0254_11eb_bcbe_0242ac110002row5_col6\" class=\"data row5 col6\" >0</td>\n",
       "                        <td id=\"T_b5b971e0_0254_11eb_bcbe_0242ac110002row5_col7\" class=\"data row5 col7\" >0</td>\n",
       "                        <td id=\"T_b5b971e0_0254_11eb_bcbe_0242ac110002row5_col8\" class=\"data row5 col8\" >0</td>\n",
       "                        <td id=\"T_b5b971e0_0254_11eb_bcbe_0242ac110002row5_col9\" class=\"data row5 col9\" >0</td>\n",
       "                        <td id=\"T_b5b971e0_0254_11eb_bcbe_0242ac110002row5_col10\" class=\"data row5 col10\" >75</td>\n",
       "                        <td id=\"T_b5b971e0_0254_11eb_bcbe_0242ac110002row5_col11\" class=\"data row5 col11\" >254</td>\n",
       "                        <td id=\"T_b5b971e0_0254_11eb_bcbe_0242ac110002row5_col12\" class=\"data row5 col12\" >254</td>\n",
       "                        <td id=\"T_b5b971e0_0254_11eb_bcbe_0242ac110002row5_col13\" class=\"data row5 col13\" >113</td>\n",
       "            </tr>\n",
       "            <tr>\n",
       "                        <th id=\"T_b5b971e0_0254_11eb_bcbe_0242ac110002level0_row6\" class=\"row_heading level0 row6\" >6</th>\n",
       "                        <td id=\"T_b5b971e0_0254_11eb_bcbe_0242ac110002row6_col0\" class=\"data row6 col0\" >0</td>\n",
       "                        <td id=\"T_b5b971e0_0254_11eb_bcbe_0242ac110002row6_col1\" class=\"data row6 col1\" >0</td>\n",
       "                        <td id=\"T_b5b971e0_0254_11eb_bcbe_0242ac110002row6_col2\" class=\"data row6 col2\" >0</td>\n",
       "                        <td id=\"T_b5b971e0_0254_11eb_bcbe_0242ac110002row6_col3\" class=\"data row6 col3\" >0</td>\n",
       "                        <td id=\"T_b5b971e0_0254_11eb_bcbe_0242ac110002row6_col4\" class=\"data row6 col4\" >0</td>\n",
       "                        <td id=\"T_b5b971e0_0254_11eb_bcbe_0242ac110002row6_col5\" class=\"data row6 col5\" >0</td>\n",
       "                        <td id=\"T_b5b971e0_0254_11eb_bcbe_0242ac110002row6_col6\" class=\"data row6 col6\" >0</td>\n",
       "                        <td id=\"T_b5b971e0_0254_11eb_bcbe_0242ac110002row6_col7\" class=\"data row6 col7\" >0</td>\n",
       "                        <td id=\"T_b5b971e0_0254_11eb_bcbe_0242ac110002row6_col8\" class=\"data row6 col8\" >0</td>\n",
       "                        <td id=\"T_b5b971e0_0254_11eb_bcbe_0242ac110002row6_col9\" class=\"data row6 col9\" >0</td>\n",
       "                        <td id=\"T_b5b971e0_0254_11eb_bcbe_0242ac110002row6_col10\" class=\"data row6 col10\" >28</td>\n",
       "                        <td id=\"T_b5b971e0_0254_11eb_bcbe_0242ac110002row6_col11\" class=\"data row6 col11\" >223</td>\n",
       "                        <td id=\"T_b5b971e0_0254_11eb_bcbe_0242ac110002row6_col12\" class=\"data row6 col12\" >254</td>\n",
       "                        <td id=\"T_b5b971e0_0254_11eb_bcbe_0242ac110002row6_col13\" class=\"data row6 col13\" >161</td>\n",
       "            </tr>\n",
       "            <tr>\n",
       "                        <th id=\"T_b5b971e0_0254_11eb_bcbe_0242ac110002level0_row7\" class=\"row_heading level0 row7\" >7</th>\n",
       "                        <td id=\"T_b5b971e0_0254_11eb_bcbe_0242ac110002row7_col0\" class=\"data row7 col0\" >0</td>\n",
       "                        <td id=\"T_b5b971e0_0254_11eb_bcbe_0242ac110002row7_col1\" class=\"data row7 col1\" >0</td>\n",
       "                        <td id=\"T_b5b971e0_0254_11eb_bcbe_0242ac110002row7_col2\" class=\"data row7 col2\" >0</td>\n",
       "                        <td id=\"T_b5b971e0_0254_11eb_bcbe_0242ac110002row7_col3\" class=\"data row7 col3\" >0</td>\n",
       "                        <td id=\"T_b5b971e0_0254_11eb_bcbe_0242ac110002row7_col4\" class=\"data row7 col4\" >0</td>\n",
       "                        <td id=\"T_b5b971e0_0254_11eb_bcbe_0242ac110002row7_col5\" class=\"data row7 col5\" >0</td>\n",
       "                        <td id=\"T_b5b971e0_0254_11eb_bcbe_0242ac110002row7_col6\" class=\"data row7 col6\" >0</td>\n",
       "                        <td id=\"T_b5b971e0_0254_11eb_bcbe_0242ac110002row7_col7\" class=\"data row7 col7\" >0</td>\n",
       "                        <td id=\"T_b5b971e0_0254_11eb_bcbe_0242ac110002row7_col8\" class=\"data row7 col8\" >0</td>\n",
       "                        <td id=\"T_b5b971e0_0254_11eb_bcbe_0242ac110002row7_col9\" class=\"data row7 col9\" >0</td>\n",
       "                        <td id=\"T_b5b971e0_0254_11eb_bcbe_0242ac110002row7_col10\" class=\"data row7 col10\" >0</td>\n",
       "                        <td id=\"T_b5b971e0_0254_11eb_bcbe_0242ac110002row7_col11\" class=\"data row7 col11\" >124</td>\n",
       "                        <td id=\"T_b5b971e0_0254_11eb_bcbe_0242ac110002row7_col12\" class=\"data row7 col12\" >254</td>\n",
       "                        <td id=\"T_b5b971e0_0254_11eb_bcbe_0242ac110002row7_col13\" class=\"data row7 col13\" >223</td>\n",
       "            </tr>\n",
       "            <tr>\n",
       "                        <th id=\"T_b5b971e0_0254_11eb_bcbe_0242ac110002level0_row8\" class=\"row_heading level0 row8\" >8</th>\n",
       "                        <td id=\"T_b5b971e0_0254_11eb_bcbe_0242ac110002row8_col0\" class=\"data row8 col0\" >0</td>\n",
       "                        <td id=\"T_b5b971e0_0254_11eb_bcbe_0242ac110002row8_col1\" class=\"data row8 col1\" >0</td>\n",
       "                        <td id=\"T_b5b971e0_0254_11eb_bcbe_0242ac110002row8_col2\" class=\"data row8 col2\" >0</td>\n",
       "                        <td id=\"T_b5b971e0_0254_11eb_bcbe_0242ac110002row8_col3\" class=\"data row8 col3\" >0</td>\n",
       "                        <td id=\"T_b5b971e0_0254_11eb_bcbe_0242ac110002row8_col4\" class=\"data row8 col4\" >0</td>\n",
       "                        <td id=\"T_b5b971e0_0254_11eb_bcbe_0242ac110002row8_col5\" class=\"data row8 col5\" >0</td>\n",
       "                        <td id=\"T_b5b971e0_0254_11eb_bcbe_0242ac110002row8_col6\" class=\"data row8 col6\" >0</td>\n",
       "                        <td id=\"T_b5b971e0_0254_11eb_bcbe_0242ac110002row8_col7\" class=\"data row8 col7\" >0</td>\n",
       "                        <td id=\"T_b5b971e0_0254_11eb_bcbe_0242ac110002row8_col8\" class=\"data row8 col8\" >0</td>\n",
       "                        <td id=\"T_b5b971e0_0254_11eb_bcbe_0242ac110002row8_col9\" class=\"data row8 col9\" >0</td>\n",
       "                        <td id=\"T_b5b971e0_0254_11eb_bcbe_0242ac110002row8_col10\" class=\"data row8 col10\" >0</td>\n",
       "                        <td id=\"T_b5b971e0_0254_11eb_bcbe_0242ac110002row8_col11\" class=\"data row8 col11\" >82</td>\n",
       "                        <td id=\"T_b5b971e0_0254_11eb_bcbe_0242ac110002row8_col12\" class=\"data row8 col12\" >254</td>\n",
       "                        <td id=\"T_b5b971e0_0254_11eb_bcbe_0242ac110002row8_col13\" class=\"data row8 col13\" >254</td>\n",
       "            </tr>\n",
       "            <tr>\n",
       "                        <th id=\"T_b5b971e0_0254_11eb_bcbe_0242ac110002level0_row9\" class=\"row_heading level0 row9\" >9</th>\n",
       "                        <td id=\"T_b5b971e0_0254_11eb_bcbe_0242ac110002row9_col0\" class=\"data row9 col0\" >0</td>\n",
       "                        <td id=\"T_b5b971e0_0254_11eb_bcbe_0242ac110002row9_col1\" class=\"data row9 col1\" >0</td>\n",
       "                        <td id=\"T_b5b971e0_0254_11eb_bcbe_0242ac110002row9_col2\" class=\"data row9 col2\" >0</td>\n",
       "                        <td id=\"T_b5b971e0_0254_11eb_bcbe_0242ac110002row9_col3\" class=\"data row9 col3\" >0</td>\n",
       "                        <td id=\"T_b5b971e0_0254_11eb_bcbe_0242ac110002row9_col4\" class=\"data row9 col4\" >0</td>\n",
       "                        <td id=\"T_b5b971e0_0254_11eb_bcbe_0242ac110002row9_col5\" class=\"data row9 col5\" >0</td>\n",
       "                        <td id=\"T_b5b971e0_0254_11eb_bcbe_0242ac110002row9_col6\" class=\"data row9 col6\" >0</td>\n",
       "                        <td id=\"T_b5b971e0_0254_11eb_bcbe_0242ac110002row9_col7\" class=\"data row9 col7\" >0</td>\n",
       "                        <td id=\"T_b5b971e0_0254_11eb_bcbe_0242ac110002row9_col8\" class=\"data row9 col8\" >0</td>\n",
       "                        <td id=\"T_b5b971e0_0254_11eb_bcbe_0242ac110002row9_col9\" class=\"data row9 col9\" >0</td>\n",
       "                        <td id=\"T_b5b971e0_0254_11eb_bcbe_0242ac110002row9_col10\" class=\"data row9 col10\" >0</td>\n",
       "                        <td id=\"T_b5b971e0_0254_11eb_bcbe_0242ac110002row9_col11\" class=\"data row9 col11\" >82</td>\n",
       "                        <td id=\"T_b5b971e0_0254_11eb_bcbe_0242ac110002row9_col12\" class=\"data row9 col12\" >254</td>\n",
       "                        <td id=\"T_b5b971e0_0254_11eb_bcbe_0242ac110002row9_col13\" class=\"data row9 col13\" >254</td>\n",
       "            </tr>\n",
       "            <tr>\n",
       "                        <th id=\"T_b5b971e0_0254_11eb_bcbe_0242ac110002level0_row10\" class=\"row_heading level0 row10\" >10</th>\n",
       "                        <td id=\"T_b5b971e0_0254_11eb_bcbe_0242ac110002row10_col0\" class=\"data row10 col0\" >0</td>\n",
       "                        <td id=\"T_b5b971e0_0254_11eb_bcbe_0242ac110002row10_col1\" class=\"data row10 col1\" >0</td>\n",
       "                        <td id=\"T_b5b971e0_0254_11eb_bcbe_0242ac110002row10_col2\" class=\"data row10 col2\" >0</td>\n",
       "                        <td id=\"T_b5b971e0_0254_11eb_bcbe_0242ac110002row10_col3\" class=\"data row10 col3\" >0</td>\n",
       "                        <td id=\"T_b5b971e0_0254_11eb_bcbe_0242ac110002row10_col4\" class=\"data row10 col4\" >0</td>\n",
       "                        <td id=\"T_b5b971e0_0254_11eb_bcbe_0242ac110002row10_col5\" class=\"data row10 col5\" >0</td>\n",
       "                        <td id=\"T_b5b971e0_0254_11eb_bcbe_0242ac110002row10_col6\" class=\"data row10 col6\" >0</td>\n",
       "                        <td id=\"T_b5b971e0_0254_11eb_bcbe_0242ac110002row10_col7\" class=\"data row10 col7\" >0</td>\n",
       "                        <td id=\"T_b5b971e0_0254_11eb_bcbe_0242ac110002row10_col8\" class=\"data row10 col8\" >0</td>\n",
       "                        <td id=\"T_b5b971e0_0254_11eb_bcbe_0242ac110002row10_col9\" class=\"data row10 col9\" >0</td>\n",
       "                        <td id=\"T_b5b971e0_0254_11eb_bcbe_0242ac110002row10_col10\" class=\"data row10 col10\" >0</td>\n",
       "                        <td id=\"T_b5b971e0_0254_11eb_bcbe_0242ac110002row10_col11\" class=\"data row10 col11\" >82</td>\n",
       "                        <td id=\"T_b5b971e0_0254_11eb_bcbe_0242ac110002row10_col12\" class=\"data row10 col12\" >254</td>\n",
       "                        <td id=\"T_b5b971e0_0254_11eb_bcbe_0242ac110002row10_col13\" class=\"data row10 col13\" >254</td>\n",
       "            </tr>\n",
       "            <tr>\n",
       "                        <th id=\"T_b5b971e0_0254_11eb_bcbe_0242ac110002level0_row11\" class=\"row_heading level0 row11\" >11</th>\n",
       "                        <td id=\"T_b5b971e0_0254_11eb_bcbe_0242ac110002row11_col0\" class=\"data row11 col0\" >0</td>\n",
       "                        <td id=\"T_b5b971e0_0254_11eb_bcbe_0242ac110002row11_col1\" class=\"data row11 col1\" >0</td>\n",
       "                        <td id=\"T_b5b971e0_0254_11eb_bcbe_0242ac110002row11_col2\" class=\"data row11 col2\" >0</td>\n",
       "                        <td id=\"T_b5b971e0_0254_11eb_bcbe_0242ac110002row11_col3\" class=\"data row11 col3\" >0</td>\n",
       "                        <td id=\"T_b5b971e0_0254_11eb_bcbe_0242ac110002row11_col4\" class=\"data row11 col4\" >0</td>\n",
       "                        <td id=\"T_b5b971e0_0254_11eb_bcbe_0242ac110002row11_col5\" class=\"data row11 col5\" >0</td>\n",
       "                        <td id=\"T_b5b971e0_0254_11eb_bcbe_0242ac110002row11_col6\" class=\"data row11 col6\" >0</td>\n",
       "                        <td id=\"T_b5b971e0_0254_11eb_bcbe_0242ac110002row11_col7\" class=\"data row11 col7\" >0</td>\n",
       "                        <td id=\"T_b5b971e0_0254_11eb_bcbe_0242ac110002row11_col8\" class=\"data row11 col8\" >0</td>\n",
       "                        <td id=\"T_b5b971e0_0254_11eb_bcbe_0242ac110002row11_col9\" class=\"data row11 col9\" >0</td>\n",
       "                        <td id=\"T_b5b971e0_0254_11eb_bcbe_0242ac110002row11_col10\" class=\"data row11 col10\" >0</td>\n",
       "                        <td id=\"T_b5b971e0_0254_11eb_bcbe_0242ac110002row11_col11\" class=\"data row11 col11\" >115</td>\n",
       "                        <td id=\"T_b5b971e0_0254_11eb_bcbe_0242ac110002row11_col12\" class=\"data row11 col12\" >254</td>\n",
       "                        <td id=\"T_b5b971e0_0254_11eb_bcbe_0242ac110002row11_col13\" class=\"data row11 col13\" >229</td>\n",
       "            </tr>\n",
       "            <tr>\n",
       "                        <th id=\"T_b5b971e0_0254_11eb_bcbe_0242ac110002level0_row12\" class=\"row_heading level0 row12\" >12</th>\n",
       "                        <td id=\"T_b5b971e0_0254_11eb_bcbe_0242ac110002row12_col0\" class=\"data row12 col0\" >0</td>\n",
       "                        <td id=\"T_b5b971e0_0254_11eb_bcbe_0242ac110002row12_col1\" class=\"data row12 col1\" >0</td>\n",
       "                        <td id=\"T_b5b971e0_0254_11eb_bcbe_0242ac110002row12_col2\" class=\"data row12 col2\" >0</td>\n",
       "                        <td id=\"T_b5b971e0_0254_11eb_bcbe_0242ac110002row12_col3\" class=\"data row12 col3\" >0</td>\n",
       "                        <td id=\"T_b5b971e0_0254_11eb_bcbe_0242ac110002row12_col4\" class=\"data row12 col4\" >0</td>\n",
       "                        <td id=\"T_b5b971e0_0254_11eb_bcbe_0242ac110002row12_col5\" class=\"data row12 col5\" >0</td>\n",
       "                        <td id=\"T_b5b971e0_0254_11eb_bcbe_0242ac110002row12_col6\" class=\"data row12 col6\" >0</td>\n",
       "                        <td id=\"T_b5b971e0_0254_11eb_bcbe_0242ac110002row12_col7\" class=\"data row12 col7\" >0</td>\n",
       "                        <td id=\"T_b5b971e0_0254_11eb_bcbe_0242ac110002row12_col8\" class=\"data row12 col8\" >0</td>\n",
       "                        <td id=\"T_b5b971e0_0254_11eb_bcbe_0242ac110002row12_col9\" class=\"data row12 col9\" >0</td>\n",
       "                        <td id=\"T_b5b971e0_0254_11eb_bcbe_0242ac110002row12_col10\" class=\"data row12 col10\" >23</td>\n",
       "                        <td id=\"T_b5b971e0_0254_11eb_bcbe_0242ac110002row12_col11\" class=\"data row12 col11\" >220</td>\n",
       "                        <td id=\"T_b5b971e0_0254_11eb_bcbe_0242ac110002row12_col12\" class=\"data row12 col12\" >254</td>\n",
       "                        <td id=\"T_b5b971e0_0254_11eb_bcbe_0242ac110002row12_col13\" class=\"data row12 col13\" >161</td>\n",
       "            </tr>\n",
       "    </tbody></table>"
      ],
      "text/plain": [
       "<pandas.io.formats.style.Styler at 0x7fe91d87f160>"
      ]
     },
     "execution_count": 9,
     "metadata": {},
     "output_type": "execute_result"
    }
   ],
   "source": [
    "im2_t = tensor(im2)\n",
    "df = pd.DataFrame(im2_t[2:15,6:20])\n",
    "df.style.set_properties(**{'font-size':'6pt'}).background_gradient('Greys')"
   ]
  },
  {
   "cell_type": "markdown",
   "metadata": {},
   "source": [
    "### Measuring the difference: Pixel similarity"
   ]
  },
  {
   "cell_type": "markdown",
   "metadata": {},
   "source": [
    "One straight-forward way to categorize the images would be to measure pixel similarity.\n",
    "\n",
    "That is, for every digit, we take all of the images from the training set, and for each pixel we calculate the average value.\n",
    "\n",
    "To classify new number, we compare each pixel of this new number with the corresponding \"average\" pixel of a digit. We classify it as a digit where the difference was smallest."
   ]
  },
  {
   "cell_type": "markdown",
   "metadata": {},
   "source": [
    "#### Creating \"average\" digits"
   ]
  },
  {
   "cell_type": "markdown",
   "metadata": {},
   "source": [
    "First, we convert the digit images to tensors."
   ]
  },
  {
   "cell_type": "code",
   "execution_count": 10,
   "metadata": {},
   "outputs": [],
   "source": [
    "digit_tensors = []\n",
    "for d_images in digits:\n",
    "    digit_tensors.append([tensor(Image.open(o)) for o in d_images])"
   ]
  },
  {
   "cell_type": "code",
   "execution_count": 11,
   "metadata": {},
   "outputs": [
    {
     "name": "stdout",
     "output_type": "stream",
     "text": [
      "5923, 6742, 5958, 6131, 5842, 5421, 5918, 6265, 5851, 5949, "
     ]
    }
   ],
   "source": [
    "for d_tensors in digit_tensors:\n",
    "    print(len(d_tensors), end=\", \")"
   ]
  },
  {
   "cell_type": "markdown",
   "metadata": {},
   "source": [
    "To calculate the average pixel values of a digit, we need to stack all of the corresponding digits to a single three-dimensional tensor - *rank-3 tensor*. "
   ]
  },
  {
   "cell_type": "code",
   "execution_count": 12,
   "metadata": {},
   "outputs": [],
   "source": [
    "stacked_digit_tensors = []\n",
    "for t in digit_tensors:\n",
    "    stacked_current = torch.stack(t).float()/255\n",
    "    stacked_digit_tensors.append(stacked_current)"
   ]
  },
  {
   "cell_type": "markdown",
   "metadata": {},
   "source": [
    "And calculate the mean."
   ]
  },
  {
   "cell_type": "code",
   "execution_count": 13,
   "metadata": {},
   "outputs": [],
   "source": [
    "digit_means = []\n",
    "for s_d in stacked_digit_tensors:\n",
    "    digit_means.append(s_d.mean(0))"
   ]
  },
  {
   "cell_type": "markdown",
   "metadata": {},
   "source": [
    "We can see how an \"ideal\" 2 looks like."
   ]
  },
  {
   "cell_type": "code",
   "execution_count": 14,
   "metadata": {},
   "outputs": [
    {
     "data": {
      "text/plain": [
       "<AxesSubplot:>"
      ]
     },
     "execution_count": 14,
     "metadata": {},
     "output_type": "execute_result"
    },
    {
     "data": {
      "image/png": "[encoded data removed]",
      "text/plain": [
       "<Figure size 72x72 with 1 Axes>"
      ]
     },
     "metadata": {
      "needs_background": "light"
     },
     "output_type": "display_data"
    }
   ],
   "source": [
    "show_image(digit_means[2])"
   ]
  },
  {
   "cell_type": "markdown",
   "metadata": {},
   "source": [
    "And the whole range."
   ]
  },
  {
   "cell_type": "code",
   "execution_count": 15,
   "metadata": {},
   "outputs": [
    {
     "data": {
      "image/png": "[encoded data removed]",
      "text/plain": [
       "<Figure size 2160x216 with 10 Axes>"
      ]
     },
     "metadata": {
      "needs_background": "light"
     },
     "output_type": "display_data"
    }
   ],
   "source": [
    "show_images(digit_means)"
   ]
  },
  {
   "cell_type": "markdown",
   "metadata": {},
   "source": [
    "To recap, this digits are just average values of every pixel for a given digit."
   ]
  },
  {
   "cell_type": "markdown",
   "metadata": {},
   "source": [
    "#### Measuring the similarity"
   ]
  },
  {
   "cell_type": "markdown",
   "metadata": {},
   "source": [
    "There are two main ways to measure the similarity of the images:\n",
    "1. Mean of the **absolute value of differences** - *mean absolute difference* - *L1 norm*\n",
    "2. Mean of the **square of differences** - *root mean squared error* - *L2 norm*\n",
    "\n",
    "The main difference is that the latter penalizes bigger differences more."
   ]
  },
  {
   "cell_type": "markdown",
   "metadata": {},
   "source": [
    "We're going to use both techniques.\n",
    "We start by picking a random two digit. Then, compare it to an ideal 2 and ideal 4."
   ]
  },
  {
   "cell_type": "code",
   "execution_count": 16,
   "metadata": {
    "scrolled": true
   },
   "outputs": [
    {
     "data": {
      "image/png": "[encoded data removed]",
      "text/plain": [
       "<Figure size 648x216 with 3 Axes>"
      ]
     },
     "metadata": {
      "needs_background": "light"
     },
     "output_type": "display_data"
    }
   ],
   "source": [
    "a_2 = stacked_digit_tensors[2][0]\n",
    "mean_2 = digit_means[2]\n",
    "mean_4 = digit_means[4]\n",
    "show_images([a_2, mean_2, mean_4])"
   ]
  },
  {
   "cell_type": "markdown",
   "metadata": {},
   "source": [
    "L1-norm with our random 2:"
   ]
  },
  {
   "cell_type": "code",
   "execution_count": 17,
   "metadata": {},
   "outputs": [
    {
     "data": {
      "text/plain": [
       "tensor(0.1350)"
      ]
     },
     "execution_count": 17,
     "metadata": {},
     "output_type": "execute_result"
    }
   ],
   "source": [
    "dist_2_abs = (a_2 - mean_2).abs().mean()\n",
    "dist_2_abs"
   ]
  },
  {
   "cell_type": "markdown",
   "metadata": {},
   "source": [
    "`a_2 - mean_2` returns a tensor - differences for every pixel.\n",
    "Then, mean is calculated from absolute values of the differences."
   ]
  },
  {
   "cell_type": "code",
   "execution_count": 18,
   "metadata": {},
   "outputs": [
    {
     "data": {
      "text/plain": [
       "<AxesSubplot:>"
      ]
     },
     "execution_count": 18,
     "metadata": {},
     "output_type": "execute_result"
    },
    {
     "data": {
      "image/png": "[encoded data removed]",
      "text/plain": [
       "<Figure size 72x72 with 1 Axes>"
      ]
     },
     "metadata": {
      "needs_background": "light"
     },
     "output_type": "display_data"
    }
   ],
   "source": [
    "show_image(a_2 - mean_2)"
   ]
  },
  {
   "cell_type": "markdown",
   "metadata": {},
   "source": [
    "L2-norm:"
   ]
  },
  {
   "cell_type": "code",
   "execution_count": 19,
   "metadata": {},
   "outputs": [
    {
     "data": {
      "text/plain": [
       "tensor(0.0547)"
      ]
     },
     "execution_count": 19,
     "metadata": {},
     "output_type": "execute_result"
    }
   ],
   "source": [
    "dist_2_sqr = ((a_2 - mean_2)**2).mean()\n",
    "dist_2_sqr"
   ]
  },
  {
   "cell_type": "markdown",
   "metadata": {},
   "source": [
    "Now, compare the random 2 to ideal 4."
   ]
  },
  {
   "cell_type": "code",
   "execution_count": 20,
   "metadata": {},
   "outputs": [
    {
     "data": {
      "text/plain": [
       "(tensor(0.1750), tensor(0.1036))"
      ]
     },
     "execution_count": 20,
     "metadata": {},
     "output_type": "execute_result"
    }
   ],
   "source": [
    "dist_4_abs = (a_2 - mean_4).abs().mean()\n",
    "dist_4_sqr = ((a_2 - mean_4)**2).mean()\n",
    "dist_4_abs, dist_4_sqr"
   ]
  },
  {
   "cell_type": "markdown",
   "metadata": {},
   "source": [
    "In both cases, the distance to the mean-4 is greater than the distance to the mean 2 - so the model would pick the right number."
   ]
  },
  {
   "cell_type": "markdown",
   "metadata": {},
   "source": [
    "PyTorch comes with both of these loss functions in `torch.nn.functional` as `l1_loss` and `mse_loss`."
   ]
  },
  {
   "cell_type": "code",
   "execution_count": 21,
   "metadata": {},
   "outputs": [
    {
     "data": {
      "text/plain": [
       "(tensor(0.1350), tensor(0.2338))"
      ]
     },
     "execution_count": 21,
     "metadata": {},
     "output_type": "execute_result"
    }
   ],
   "source": [
    "F.l1_loss(a_2.float(),mean_2), F.mse_loss(a_2,mean_2).sqrt()"
   ]
  },
  {
   "cell_type": "markdown",
   "metadata": {},
   "source": [
    "### Calculating accuracy"
   ]
  },
  {
   "cell_type": "markdown",
   "metadata": {},
   "source": [
    "Now, we would like to see how good the predictions actually are. We can find out by using digits from validation set and comparing the predictions to actual values."
   ]
  },
  {
   "cell_type": "code",
   "execution_count": 22,
   "metadata": {},
   "outputs": [],
   "source": [
    "validation_digits = []\n",
    "for i in range(10):\n",
    "    valid_current = torch.stack([tensor(Image.open(o)) \n",
    "                            for o in (path/'testing'/str(i)).ls()])\n",
    "    valid_current = valid_current.float()/255\n",
    "    validation_digits.append(valid_current)"
   ]
  },
  {
   "cell_type": "code",
   "execution_count": 23,
   "metadata": {},
   "outputs": [
    {
     "data": {
      "text/plain": [
       "torch.Size([1010, 28, 28])"
      ]
     },
     "execution_count": 23,
     "metadata": {},
     "output_type": "execute_result"
    }
   ],
   "source": [
    "validation_digits[3].shape"
   ]
  },
  {
   "cell_type": "markdown",
   "metadata": {},
   "source": [
    "A function to calculate distance between two tensors. It utilizes *broadcasting* - automatically expanding smaller rank tensor if the ranks of tensor arguments don't match."
   ]
  },
  {
   "cell_type": "code",
   "execution_count": 24,
   "metadata": {},
   "outputs": [],
   "source": [
    "def mnist_distance(a,b): return (a-b).abs().mean((-1,-2))"
   ]
  },
  {
   "cell_type": "markdown",
   "metadata": {},
   "source": [
    "Same rank:"
   ]
  },
  {
   "cell_type": "code",
   "execution_count": 25,
   "metadata": {},
   "outputs": [
    {
     "data": {
      "text/plain": [
       "tensor(0.1350)"
      ]
     },
     "execution_count": 25,
     "metadata": {},
     "output_type": "execute_result"
    }
   ],
   "source": [
    "mnist_distance(a_2, mean_2)"
   ]
  },
  {
   "cell_type": "markdown",
   "metadata": {},
   "source": [
    "Non-matching rank:"
   ]
  },
  {
   "cell_type": "code",
   "execution_count": 26,
   "metadata": {},
   "outputs": [
    {
     "data": {
      "text/plain": [
       "tensor([0.1275, 0.1369, 0.1477,  ..., 0.1503, 0.1582, 0.1609])"
      ]
     },
     "execution_count": 26,
     "metadata": {},
     "output_type": "execute_result"
    }
   ],
   "source": [
    "mnist_distance(validation_digits[2], mean_2)"
   ]
  },
  {
   "cell_type": "markdown",
   "metadata": {},
   "source": [
    "Note that this doesn't actually *create* new copies of `mean_2` - it just behaves like it did."
   ]
  },
  {
   "cell_type": "markdown",
   "metadata": {},
   "source": [
    "We'll use this `mnist_distance` to classify images. We guess the image to represent number where it had smallest distance from the mean image."
   ]
  },
  {
   "cell_type": "code",
   "execution_count": 27,
   "metadata": {
    "scrolled": true
   },
   "outputs": [],
   "source": [
    "def is_target(tns, target):\n",
    "    target_mean = digit_means[target]\n",
    "    other_means = digit_means[:target] + digit_means[target+1:]\n",
    "    intermed_tns = tensor([True])\n",
    "    for o_mean in other_means:\n",
    "        target_dist = mnist_distance(tns, target_mean) \n",
    "        o_dist = mnist_distance(tns, o_mean)\n",
    "        x = target_dist < o_dist\n",
    "        intermed_tns = torch.logical_and(intermed_tns, x)\n",
    "        \n",
    "    return intermed_tns"
   ]
  },
  {
   "cell_type": "code",
   "execution_count": 28,
   "metadata": {},
   "outputs": [
    {
     "name": "stdout",
     "output_type": "stream",
     "text": [
      "0: 81.41%\n",
      "1: 99.81%\n",
      "2: 43.29%\n",
      "3: 58.36%\n",
      "4: 66.48%\n",
      "5: 30.01%\n",
      "6: 74.54%\n",
      "7: 77.78%\n",
      "8: 39.58%\n",
      "9: 71.63%\n",
      "Mean accuracy: 64.29%\n"
     ]
    }
   ],
   "source": [
    "acc_sum = 0\n",
    "for i in range(10):\n",
    "    accuracy = is_target(stacked_digit_tensors[i], i).float().mean()\n",
    "    print(f\"{i}: {accuracy*100:.2f}%\")\n",
    "    acc_sum += float(accuracy)\n",
    "    \n",
    "print(f\"Mean accuracy: {acc_sum/10*100:.2f}%\")"
   ]
  },
  {
   "cell_type": "markdown",
   "metadata": {},
   "source": [
    "As you can see, the predictions are all over the place, but the result is not bad - more than 6 times better than random guesses.\n",
    "*Note: Extremely high accuracy with predicting 1s is a little unsettling and looks like a bug - if it is, I wasn't able to locate it.*"
   ]
  },
  {
   "cell_type": "markdown",
   "metadata": {},
   "source": [
    "### Stochastic Gradient Descent"
   ]
  },
  {
   "cell_type": "markdown",
   "metadata": {},
   "source": [
    "SGD: Find local minima of a loss function by changing the parameters. Adjust the rate at which each parameter changes by calculating gradients (steepness of the slope)."
   ]
  },
  {
   "cell_type": "markdown",
   "metadata": {},
   "source": [
    "**Steps**\n",
    "1. Initialize weights randomly\n",
    "1. Calculate the predictions \n",
    "1. Calculate the loss\n",
    "1. Calculate the gradients\n",
    "1. Step the weights\n",
    "1. Repeat\n",
    "1. End"
   ]
  },
  {
   "cell_type": "markdown",
   "metadata": {},
   "source": [
    "Before we begin, we create a dataset that contains `digit tensor, label` pairs."
   ]
  },
  {
   "cell_type": "code",
   "execution_count": 29,
   "metadata": {},
   "outputs": [
    {
     "data": {
      "text/plain": [
       "(torch.Size([60000, 784]), torch.Size([60000, 1]))"
      ]
     },
     "execution_count": 29,
     "metadata": {},
     "output_type": "execute_result"
    }
   ],
   "source": [
    "train_x = torch.cat(stacked_digit_tensors).view(-1, 28*28)\n",
    "labels = []\n",
    "for i in range(10):\n",
    "    labels += [i] * len(digits[i])\n",
    "train_y = tensor(labels).unsqueeze(-1)\n",
    "train_x.shape, train_y.shape"
   ]
  },
  {
   "cell_type": "code",
   "execution_count": 30,
   "metadata": {},
   "outputs": [
    {
     "data": {
      "text/plain": [
       "(torch.Size([784]), torch.Size([1]))"
      ]
     },
     "execution_count": 30,
     "metadata": {},
     "output_type": "execute_result"
    }
   ],
   "source": [
    "dset = list(zip(train_x,train_y))\n",
    "x,y = dset[0]\n",
    "x.shape, y.shape"
   ]
  },
  {
   "cell_type": "markdown",
   "metadata": {},
   "source": [
    "Same for validation set:"
   ]
  },
  {
   "cell_type": "code",
   "execution_count": 31,
   "metadata": {},
   "outputs": [],
   "source": [
    "valid_x = torch.cat([t for t in validation_digits]).view(-1, 28*28)\n",
    "labels = []\n",
    "for i in range(10):\n",
    "    labels += [i] * len(validation_digits[i])\n",
    "valid_y = tensor(labels).unsqueeze(1)\n",
    "valid_dset = list(zip(valid_x, valid_y))"
   ]
  },
  {
   "cell_type": "markdown",
   "metadata": {},
   "source": [
    "**Step 1: Initialize the parameters randomly**"
   ]
  },
  {
   "cell_type": "code",
   "execution_count": 32,
   "metadata": {},
   "outputs": [],
   "source": [
    "def init_params(size, std=1.0): return (torch.randn(size)*std).requires_grad_()"
   ]
  },
  {
   "cell_type": "markdown",
   "metadata": {},
   "source": [
    "We want the weights to output in 10 dimensions - 1 for each digit."
   ]
  },
  {
   "cell_type": "code",
   "execution_count": 33,
   "metadata": {},
   "outputs": [],
   "source": [
    "weights = init_params((28*28, 10))"
   ]
  },
  {
   "cell_type": "markdown",
   "metadata": {},
   "source": [
    "If all the pixels would be 0, no matter the weights, the function would return zero. To avoid this, we include *bias* - that is the *b* in w*x+b."
   ]
  },
  {
   "cell_type": "code",
   "execution_count": 34,
   "metadata": {},
   "outputs": [],
   "source": [
    "bias = init_params(10)"
   ]
  },
  {
   "cell_type": "markdown",
   "metadata": {},
   "source": [
    "#### Step 2: Calculate the predictions"
   ]
  },
  {
   "cell_type": "markdown",
   "metadata": {},
   "source": [
    "We can calculate the prediction now.\n",
    "We'll use *matrix multiplication* to calculate w\\*x for every row in a matrix."
   ]
  },
  {
   "cell_type": "code",
   "execution_count": 56,
   "metadata": {},
   "outputs": [
    {
     "data": {
      "text/plain": [
       "(tensor([-11.9867,  -4.2706,   4.6806,   8.3393,   2.6384,   8.4428,  -5.3335,  -1.3517,  -0.0395,  13.5840], grad_fn=<SelectBackward>),\n",
       " torch.Size([60000, 10]))"
      ]
     },
     "execution_count": 56,
     "metadata": {},
     "output_type": "execute_result"
    }
   ],
   "source": [
    "def linear1(xb): return (xb@weights + bias)\n",
    "preds = linear1(train_x)\n",
    "preds[0], preds.shape"
   ]
  },
  {
   "cell_type": "markdown",
   "metadata": {},
   "source": [
    "#### Step 3: Calculate the loss"
   ]
  },
  {
   "cell_type": "markdown",
   "metadata": {},
   "source": [
    "We can calculate the accuracy of our model now."
   ]
  },
  {
   "cell_type": "code",
   "execution_count": 57,
   "metadata": {},
   "outputs": [],
   "source": [
    "def p_to_digit(x):\n",
    "    return x.argmax(-1)\n",
    "\n",
    "def accuracy(xb, yb):\n",
    "    return (p_to_digit(xb) == yb).float().mean()"
   ]
  },
  {
   "cell_type": "markdown",
   "metadata": {},
   "source": [
    "To do that, we need to convert the prediction tensor to a digit by picking up a digit with highest confidence.\n",
    "\n",
    "Then we just compare if the predicted digit is equal to the label."
   ]
  },
  {
   "cell_type": "markdown",
   "metadata": {},
   "source": [
    "To test this, pick two numbers with labels and calculate their predictions."
   ]
  },
  {
   "cell_type": "code",
   "execution_count": 58,
   "metadata": {},
   "outputs": [],
   "source": [
    "two_numbers = tensor(train_x[10000:10002])\n",
    "two_labels = tensor(train_y[10000:10002])\n",
    "two_preds = linear1(two_numbers)"
   ]
  },
  {
   "cell_type": "code",
   "execution_count": 59,
   "metadata": {},
   "outputs": [
    {
     "data": {
      "text/plain": [
       "tensor([ 1.0390,  3.3584, -4.7083, -6.4347, -7.8454, -1.6740,  5.4817, -4.1297, 16.2386, 13.1670], grad_fn=<SelectBackward>)"
      ]
     },
     "execution_count": 59,
     "metadata": {},
     "output_type": "execute_result"
    }
   ],
   "source": [
    "two_preds[0]"
   ]
  },
  {
   "cell_type": "code",
   "execution_count": 60,
   "metadata": {},
   "outputs": [
    {
     "data": {
      "text/plain": [
       "(tensor([8, 8]),\n",
       " tensor([[1],\n",
       "         [1]]))"
      ]
     },
     "execution_count": 60,
     "metadata": {},
     "output_type": "execute_result"
    }
   ],
   "source": [
    "p_to_digit(two_preds), two_labels"
   ]
  },
  {
   "cell_type": "code",
   "execution_count": 61,
   "metadata": {},
   "outputs": [
    {
     "data": {
      "text/plain": [
       "tensor(0.)"
      ]
     },
     "execution_count": 61,
     "metadata": {},
     "output_type": "execute_result"
    }
   ],
   "source": [
    "accuracy(two_preds, two_labels)"
   ]
  },
  {
   "cell_type": "markdown",
   "metadata": {},
   "source": [
    "We get around ~10% accuracy, as would expect.\n",
    "We want to use gradients to improve our model using SGD. We could use accuracy as our *loss function*.\n",
    "But there's a problem. Gradients are calculated over the slope of the function  (*rise over run*). Now, some changes to the parameters might not be enough to change the prediction to different number.\n",
    "\n",
    "We need a loss function that changes *everytime* we tweak the parameters."
   ]
  },
  {
   "cell_type": "markdown",
   "metadata": {},
   "source": [
    "We can do this by predicting not only the digit, but also the *confidence* of the prediction.\n",
    "We use [softmax](https://pytorch.org/docs/stable/nn.functional.html#torch.nn.functional.softmax) to keep the predictions in [0,1] interval proportional to the original values."
   ]
  },
  {
   "cell_type": "markdown",
   "metadata": {},
   "source": [
    "Before writing the loss function, we need to come up with a way to convert labels to tensor expressing *confidences* for every digit. That is, it should have a value **1** for the target digit, and **0** for every other digit. The loss will use this tensor to calculate the distance from the desired answer."
   ]
  },
  {
   "cell_type": "code",
   "execution_count": 62,
   "metadata": {},
   "outputs": [],
   "source": [
    "def label_to_tensor(l):\n",
    "    l = l.type(torch.int64)\n",
    "    return (torch.zeros(l.shape[0], 10)).scatter_(1, l, 1)"
   ]
  },
  {
   "cell_type": "code",
   "execution_count": 63,
   "metadata": {},
   "outputs": [],
   "source": [
    "def mnist_loss(predictions, targets):\n",
    "    predictions = predictions.softmax(-1)\n",
    "    targets = label_to_tensor(targets)\n",
    "    return (predictions - targets).abs().mean()"
   ]
  },
  {
   "cell_type": "markdown",
   "metadata": {},
   "source": [
    "#### Step 4: Calculate the gradients"
   ]
  },
  {
   "cell_type": "markdown",
   "metadata": {},
   "source": [
    "Calculating the loss one item at a time would be too slow, but doing it all at once would take a long time. We settle for a compromise: *mini-batches* - calculation are taken on a batch of items at a time.\n",
    "This also utilizes GPUs capabilities to perform tasks in pararel. "
   ]
  },
  {
   "cell_type": "code",
   "execution_count": 64,
   "metadata": {},
   "outputs": [],
   "source": [
    "dl = DataLoader(dset, batch_size=256)\n",
    "valid_dl = DataLoader(valid_dset, batch_size=256)\n",
    "\n",
    "weights = init_params((28*28,10))\n",
    "bias = init_params(10)"
   ]
  },
  {
   "cell_type": "code",
   "execution_count": 65,
   "metadata": {},
   "outputs": [],
   "source": [
    "def calc_grad(xb, yb, model):\n",
    "    preds = model(xb)\n",
    "    loss = mnist_loss(preds, yb)\n",
    "    loss.backward()"
   ]
  },
  {
   "cell_type": "markdown",
   "metadata": {},
   "source": [
    "* **Training**\n",
    "\n",
    "    * When training, we step in the opposite direction of the gradient to move to the function minima.\n",
    "    * Don't forget to zero out the gradients to avoid them being added together after multiple runs.\n",
    "    * *Learning rate* is used to adjust the size of the steps - to augment the gradients impact."
   ]
  },
  {
   "cell_type": "code",
   "execution_count": 66,
   "metadata": {},
   "outputs": [],
   "source": [
    "def train_epoch(model, lr, params):\n",
    "    for xb,yb in dl:\n",
    "        calc_grad(xb, yb, model)\n",
    "        for p in params:\n",
    "            p.data -= p.grad*lr\n",
    "            p.grad.zero_()"
   ]
  },
  {
   "cell_type": "code",
   "execution_count": 67,
   "metadata": {},
   "outputs": [],
   "source": [
    "def validate_epoch(model):\n",
    "    accs = [accuracy(model(xb), yb) for xb,yb in valid_dl]\n",
    "    return round(torch.stack(accs).mean().item(), 4)"
   ]
  },
  {
   "cell_type": "code",
   "execution_count": 68,
   "metadata": {},
   "outputs": [
    {
     "data": {
      "text/plain": [
       "0.1019"
      ]
     },
     "execution_count": 68,
     "metadata": {},
     "output_type": "execute_result"
    }
   ],
   "source": [
    "validate_epoch(linear1)"
   ]
  },
  {
   "cell_type": "markdown",
   "metadata": {},
   "source": [
    "With random weights, the ~10% shouldn't surprise us.\n",
    "But does it actually get better if we *train* the model?"
   ]
  },
  {
   "cell_type": "code",
   "execution_count": 69,
   "metadata": {},
   "outputs": [
    {
     "data": {
      "text/plain": [
       "0.179"
      ]
     },
     "execution_count": 69,
     "metadata": {},
     "output_type": "execute_result"
    }
   ],
   "source": [
    "lr = 1.\n",
    "params = weights,bias\n",
    "train_epoch(linear1, lr, params)\n",
    "validate_epoch(linear1)"
   ]
  },
  {
   "cell_type": "markdown",
   "metadata": {},
   "source": [
    "It does! \n",
    "\n",
    "We can train some more."
   ]
  },
  {
   "cell_type": "code",
   "execution_count": 70,
   "metadata": {},
   "outputs": [
    {
     "name": "stdout",
     "output_type": "stream",
     "text": [
      "0.2245 0.2615 0.2982 0.3306 0.3526 0.3692 0.3823 0.3964 0.4115 0.4234 0.4365 0.4467 0.455 0.4641 0.471 0.4791 0.4859 0.4942 0.5069 0.5257 "
     ]
    }
   ],
   "source": [
    "lr = 1.\n",
    "params = weights,bias\n",
    "for i in range(20):\n",
    "    train_epoch(linear1, lr, params)\n",
    "    print(validate_epoch(linear1), end=' ')"
   ]
  },
  {
   "cell_type": "markdown",
   "metadata": {},
   "source": [
    "The accuracy after a few training cycles reaches ~50%, which is quite good, for such a simple model!\n",
    "\n",
    "Altough the pixel similarity model worked better, this is a basic block which we can build on. And it's actually *learning*."
   ]
  },
  {
   "cell_type": "markdown",
   "metadata": {},
   "source": [
    "### Creating an Optimizer"
   ]
  },
  {
   "cell_type": "markdown",
   "metadata": {},
   "source": [
    "Unsurprisingly, there's bunch of PyTorch classes that make this easier to implement. \n",
    "*nn.Linear* is a combination of our *init_params* and *linear1*."
   ]
  },
  {
   "cell_type": "code",
   "execution_count": 71,
   "metadata": {},
   "outputs": [
    {
     "data": {
      "text/plain": [
       "Linear(in_features=784, out_features=10, bias=True)"
      ]
     },
     "execution_count": 71,
     "metadata": {},
     "output_type": "execute_result"
    }
   ],
   "source": [
    "linear_model = nn.Linear(28*28,10)\n",
    "linear_model"
   ]
  },
  {
   "cell_type": "markdown",
   "metadata": {},
   "source": [
    "A purpose of the *optimizer* is to minimalize the loss function by stepping the weights, as we've done in *calc_grad* and *train_epoch*.\n",
    "\n",
    "*fastai* provides *SGD*, which does essentialy the same as we did.\n",
    "\n",
    "We can use *Learner* to put it all together."
   ]
  },
  {
   "cell_type": "code",
   "execution_count": 72,
   "metadata": {},
   "outputs": [],
   "source": [
    "dls = DataLoaders(dl, valid_dl)"
   ]
  },
  {
   "cell_type": "code",
   "execution_count": 73,
   "metadata": {},
   "outputs": [],
   "source": [
    "learn = Learner(dls, nn.Linear(28*28,10), opt_func=SGD,\n",
    "                loss_func=mnist_loss, metrics=accuracy)"
   ]
  },
  {
   "cell_type": "code",
   "execution_count": 74,
   "metadata": {},
   "outputs": [
    {
     "data": {
      "text/html": [
       "<table border=\"1\" class=\"dataframe\">\n",
       "  <thead>\n",
       "    <tr style=\"text-align: left;\">\n",
       "      <th>epoch</th>\n",
       "      <th>train_loss</th>\n",
       "      <th>valid_loss</th>\n",
       "      <th>accuracy</th>\n",
       "      <th>time</th>\n",
       "    </tr>\n",
       "  </thead>\n",
       "  <tbody>\n",
       "    <tr>\n",
       "      <td>0</td>\n",
       "      <td>0.177227</td>\n",
       "      <td>0.160779</td>\n",
       "      <td>0.193971</td>\n",
       "      <td>00:01</td>\n",
       "    </tr>\n",
       "    <tr>\n",
       "      <td>1</td>\n",
       "      <td>0.103887</td>\n",
       "      <td>0.155185</td>\n",
       "      <td>0.221862</td>\n",
       "      <td>00:01</td>\n",
       "    </tr>\n",
       "    <tr>\n",
       "      <td>2</td>\n",
       "      <td>0.069117</td>\n",
       "      <td>0.139903</td>\n",
       "      <td>0.309807</td>\n",
       "      <td>00:00</td>\n",
       "    </tr>\n",
       "    <tr>\n",
       "      <td>3</td>\n",
       "      <td>0.059987</td>\n",
       "      <td>0.128441</td>\n",
       "      <td>0.360148</td>\n",
       "      <td>00:00</td>\n",
       "    </tr>\n",
       "    <tr>\n",
       "      <td>4</td>\n",
       "      <td>0.054112</td>\n",
       "      <td>0.118848</td>\n",
       "      <td>0.401384</td>\n",
       "      <td>00:00</td>\n",
       "    </tr>\n",
       "    <tr>\n",
       "      <td>5</td>\n",
       "      <td>0.051850</td>\n",
       "      <td>0.110999</td>\n",
       "      <td>0.440786</td>\n",
       "      <td>00:00</td>\n",
       "    </tr>\n",
       "    <tr>\n",
       "      <td>6</td>\n",
       "      <td>0.050422</td>\n",
       "      <td>0.105058</td>\n",
       "      <td>0.467323</td>\n",
       "      <td>00:00</td>\n",
       "    </tr>\n",
       "    <tr>\n",
       "      <td>7</td>\n",
       "      <td>0.049435</td>\n",
       "      <td>0.100271</td>\n",
       "      <td>0.487337</td>\n",
       "      <td>00:01</td>\n",
       "    </tr>\n",
       "    <tr>\n",
       "      <td>8</td>\n",
       "      <td>0.048716</td>\n",
       "      <td>0.096281</td>\n",
       "      <td>0.502976</td>\n",
       "      <td>00:01</td>\n",
       "    </tr>\n",
       "    <tr>\n",
       "      <td>9</td>\n",
       "      <td>0.048168</td>\n",
       "      <td>0.092869</td>\n",
       "      <td>0.518368</td>\n",
       "      <td>00:00</td>\n",
       "    </tr>\n",
       "    <tr>\n",
       "      <td>10</td>\n",
       "      <td>0.047717</td>\n",
       "      <td>0.089898</td>\n",
       "      <td>0.531261</td>\n",
       "      <td>00:00</td>\n",
       "    </tr>\n",
       "    <tr>\n",
       "      <td>11</td>\n",
       "      <td>0.047225</td>\n",
       "      <td>0.087264</td>\n",
       "      <td>0.542448</td>\n",
       "      <td>00:00</td>\n",
       "    </tr>\n",
       "    <tr>\n",
       "      <td>12</td>\n",
       "      <td>0.045476</td>\n",
       "      <td>0.085328</td>\n",
       "      <td>0.554211</td>\n",
       "      <td>00:01</td>\n",
       "    </tr>\n",
       "    <tr>\n",
       "      <td>13</td>\n",
       "      <td>0.042950</td>\n",
       "      <td>0.083419</td>\n",
       "      <td>0.564423</td>\n",
       "      <td>00:00</td>\n",
       "    </tr>\n",
       "    <tr>\n",
       "      <td>14</td>\n",
       "      <td>0.041798</td>\n",
       "      <td>0.080433</td>\n",
       "      <td>0.581772</td>\n",
       "      <td>00:00</td>\n",
       "    </tr>\n",
       "    <tr>\n",
       "      <td>15</td>\n",
       "      <td>0.041192</td>\n",
       "      <td>0.077971</td>\n",
       "      <td>0.593313</td>\n",
       "      <td>00:00</td>\n",
       "    </tr>\n",
       "    <tr>\n",
       "      <td>16</td>\n",
       "      <td>0.040762</td>\n",
       "      <td>0.075869</td>\n",
       "      <td>0.604204</td>\n",
       "      <td>00:00</td>\n",
       "    </tr>\n",
       "    <tr>\n",
       "      <td>17</td>\n",
       "      <td>0.040386</td>\n",
       "      <td>0.073986</td>\n",
       "      <td>0.611360</td>\n",
       "      <td>00:01</td>\n",
       "    </tr>\n",
       "    <tr>\n",
       "      <td>18</td>\n",
       "      <td>0.040054</td>\n",
       "      <td>0.072248</td>\n",
       "      <td>0.619918</td>\n",
       "      <td>00:01</td>\n",
       "    </tr>\n",
       "    <tr>\n",
       "      <td>19</td>\n",
       "      <td>0.039764</td>\n",
       "      <td>0.070627</td>\n",
       "      <td>0.627427</td>\n",
       "      <td>00:00</td>\n",
       "    </tr>\n",
       "  </tbody>\n",
       "</table>"
      ],
      "text/plain": [
       "<IPython.core.display.HTML object>"
      ]
     },
     "metadata": {},
     "output_type": "display_data"
    }
   ],
   "source": [
    "learn.fit(20, lr=1.)"
   ]
  },
  {
   "cell_type": "markdown",
   "metadata": {},
   "source": [
    "This performs slightly better than our model. My guess would be that *SGD* optimizer is slightly more advanced than ours. I'll update this when I find out."
   ]
  },
  {
   "cell_type": "markdown",
   "metadata": {},
   "source": [
    "We can advance to crucial step - adding more layers."
   ]
  },
  {
   "cell_type": "markdown",
   "metadata": {},
   "source": [
    "### More layers and nonlinearity"
   ]
  },
  {
   "cell_type": "markdown",
   "metadata": {},
   "source": [
    "If we added only another (linear) layer, those two layers could be modified (by using calculus) to be represented as a single linear function.\n",
    "The solution is to add a **nonlinear** function between the two. \n",
    "\n",
    "Now, it's not possible to simplify it to single linear function."
   ]
  },
  {
   "cell_type": "code",
   "execution_count": 75,
   "metadata": {},
   "outputs": [],
   "source": [
    "simple_net = nn.Sequential(\n",
    "    nn.Linear(28*28,30), # linear layer\n",
    "    nn.ReLU(), # nonlinearity\n",
    "    nn.Linear(30,10) # linear layer\n",
    ")"
   ]
  },
  {
   "cell_type": "markdown",
   "metadata": {},
   "source": [
    "*nn.ReLU* is essentialy *max(0, x)*. It turns any negative numbers to zero, leaving positive numbers untouched."
   ]
  },
  {
   "cell_type": "code",
   "execution_count": 76,
   "metadata": {},
   "outputs": [
    {
     "data": {
      "image/png": "[encoded data removed]",
      "text/plain": [
       "<Figure size 432x288 with 1 Axes>"
      ]
     },
     "metadata": {
      "needs_background": "light"
     },
     "output_type": "display_data"
    }
   ],
   "source": [
    "plot_function(F.relu)"
   ]
  },
  {
   "cell_type": "code",
   "execution_count": 77,
   "metadata": {},
   "outputs": [],
   "source": [
    "learn = Learner(dls, simple_net, opt_func=SGD,\n",
    "                loss_func=mnist_loss, metrics=accuracy)"
   ]
  },
  {
   "cell_type": "code",
   "execution_count": 78,
   "metadata": {},
   "outputs": [
    {
     "data": {
      "text/html": [
       "<table border=\"1\" class=\"dataframe\">\n",
       "  <thead>\n",
       "    <tr style=\"text-align: left;\">\n",
       "      <th>epoch</th>\n",
       "      <th>train_loss</th>\n",
       "      <th>valid_loss</th>\n",
       "      <th>accuracy</th>\n",
       "      <th>time</th>\n",
       "    </tr>\n",
       "  </thead>\n",
       "  <tbody>\n",
       "    <tr>\n",
       "      <td>0</td>\n",
       "      <td>0.181457</td>\n",
       "      <td>0.178528</td>\n",
       "      <td>0.217043</td>\n",
       "      <td>00:01</td>\n",
       "    </tr>\n",
       "    <tr>\n",
       "      <td>1</td>\n",
       "      <td>0.180678</td>\n",
       "      <td>0.175846</td>\n",
       "      <td>0.250777</td>\n",
       "      <td>00:01</td>\n",
       "    </tr>\n",
       "    <tr>\n",
       "      <td>2</td>\n",
       "      <td>0.180115</td>\n",
       "      <td>0.169476</td>\n",
       "      <td>0.265250</td>\n",
       "      <td>00:01</td>\n",
       "    </tr>\n",
       "    <tr>\n",
       "      <td>3</td>\n",
       "      <td>0.178958</td>\n",
       "      <td>0.155737</td>\n",
       "      <td>0.298626</td>\n",
       "      <td>00:01</td>\n",
       "    </tr>\n",
       "    <tr>\n",
       "      <td>4</td>\n",
       "      <td>0.174436</td>\n",
       "      <td>0.142253</td>\n",
       "      <td>0.325580</td>\n",
       "      <td>00:01</td>\n",
       "    </tr>\n",
       "    <tr>\n",
       "      <td>5</td>\n",
       "      <td>0.169929</td>\n",
       "      <td>0.132780</td>\n",
       "      <td>0.346405</td>\n",
       "      <td>00:01</td>\n",
       "    </tr>\n",
       "    <tr>\n",
       "      <td>6</td>\n",
       "      <td>0.165284</td>\n",
       "      <td>0.125421</td>\n",
       "      <td>0.414369</td>\n",
       "      <td>00:01</td>\n",
       "    </tr>\n",
       "    <tr>\n",
       "      <td>7</td>\n",
       "      <td>0.159455</td>\n",
       "      <td>0.121954</td>\n",
       "      <td>0.414507</td>\n",
       "      <td>00:01</td>\n",
       "    </tr>\n",
       "    <tr>\n",
       "      <td>8</td>\n",
       "      <td>0.152856</td>\n",
       "      <td>0.117419</td>\n",
       "      <td>0.415911</td>\n",
       "      <td>00:01</td>\n",
       "    </tr>\n",
       "    <tr>\n",
       "      <td>9</td>\n",
       "      <td>0.148755</td>\n",
       "      <td>0.110323</td>\n",
       "      <td>0.435318</td>\n",
       "      <td>00:01</td>\n",
       "    </tr>\n",
       "    <tr>\n",
       "      <td>10</td>\n",
       "      <td>0.146101</td>\n",
       "      <td>0.104967</td>\n",
       "      <td>0.458405</td>\n",
       "      <td>00:01</td>\n",
       "    </tr>\n",
       "    <tr>\n",
       "      <td>11</td>\n",
       "      <td>0.144515</td>\n",
       "      <td>0.100603</td>\n",
       "      <td>0.487237</td>\n",
       "      <td>00:01</td>\n",
       "    </tr>\n",
       "    <tr>\n",
       "      <td>12</td>\n",
       "      <td>0.143508</td>\n",
       "      <td>0.097081</td>\n",
       "      <td>0.506937</td>\n",
       "      <td>00:01</td>\n",
       "    </tr>\n",
       "    <tr>\n",
       "      <td>13</td>\n",
       "      <td>0.142821</td>\n",
       "      <td>0.094319</td>\n",
       "      <td>0.519657</td>\n",
       "      <td>00:01</td>\n",
       "    </tr>\n",
       "    <tr>\n",
       "      <td>14</td>\n",
       "      <td>0.142342</td>\n",
       "      <td>0.091932</td>\n",
       "      <td>0.525919</td>\n",
       "      <td>00:01</td>\n",
       "    </tr>\n",
       "    <tr>\n",
       "      <td>15</td>\n",
       "      <td>0.141677</td>\n",
       "      <td>0.088836</td>\n",
       "      <td>0.543320</td>\n",
       "      <td>00:01</td>\n",
       "    </tr>\n",
       "    <tr>\n",
       "      <td>16</td>\n",
       "      <td>0.140684</td>\n",
       "      <td>0.086376</td>\n",
       "      <td>0.555296</td>\n",
       "      <td>00:01</td>\n",
       "    </tr>\n",
       "    <tr>\n",
       "      <td>17</td>\n",
       "      <td>0.140261</td>\n",
       "      <td>0.083856</td>\n",
       "      <td>0.566285</td>\n",
       "      <td>00:01</td>\n",
       "    </tr>\n",
       "    <tr>\n",
       "      <td>18</td>\n",
       "      <td>0.139943</td>\n",
       "      <td>0.081593</td>\n",
       "      <td>0.575492</td>\n",
       "      <td>00:01</td>\n",
       "    </tr>\n",
       "    <tr>\n",
       "      <td>19</td>\n",
       "      <td>0.139685</td>\n",
       "      <td>0.079630</td>\n",
       "      <td>0.582533</td>\n",
       "      <td>00:01</td>\n",
       "    </tr>\n",
       "  </tbody>\n",
       "</table>"
      ],
      "text/plain": [
       "<IPython.core.display.HTML object>"
      ]
     },
     "metadata": {},
     "output_type": "display_data"
    }
   ],
   "source": [
    "learn.fit(20,0.1)"
   ]
  },
  {
   "cell_type": "markdown",
   "metadata": {},
   "source": [
    "The results are slightly disappointing - the accuracy after 20 cycles is similar to our single-layer model.\n",
    "What happens if we add another layer?"
   ]
  },
  {
   "cell_type": "code",
   "execution_count": 79,
   "metadata": {},
   "outputs": [],
   "source": [
    "bigger_net = nn.Sequential(\n",
    "    nn.Linear(28*28,30),\n",
    "    nn.ReLU(),\n",
    "    nn.Linear(30, 30),\n",
    "    nn.ReLU(),\n",
    "    nn.Linear(30, 10),\n",
    ")"
   ]
  },
  {
   "cell_type": "code",
   "execution_count": 80,
   "metadata": {},
   "outputs": [],
   "source": [
    "b_learn = Learner(dls, bigger_net, opt_func=SGD,\n",
    "                loss_func=mnist_loss, metrics=accuracy)"
   ]
  },
  {
   "cell_type": "code",
   "execution_count": 81,
   "metadata": {},
   "outputs": [
    {
     "data": {
      "text/html": [
       "<table border=\"1\" class=\"dataframe\">\n",
       "  <thead>\n",
       "    <tr style=\"text-align: left;\">\n",
       "      <th>epoch</th>\n",
       "      <th>train_loss</th>\n",
       "      <th>valid_loss</th>\n",
       "      <th>accuracy</th>\n",
       "      <th>time</th>\n",
       "    </tr>\n",
       "  </thead>\n",
       "  <tbody>\n",
       "    <tr>\n",
       "      <td>0</td>\n",
       "      <td>0.180283</td>\n",
       "      <td>0.179822</td>\n",
       "      <td>0.102665</td>\n",
       "      <td>00:01</td>\n",
       "    </tr>\n",
       "    <tr>\n",
       "      <td>1</td>\n",
       "      <td>0.180089</td>\n",
       "      <td>0.179545</td>\n",
       "      <td>0.153138</td>\n",
       "      <td>00:01</td>\n",
       "    </tr>\n",
       "    <tr>\n",
       "      <td>2</td>\n",
       "      <td>0.179895</td>\n",
       "      <td>0.179211</td>\n",
       "      <td>0.156936</td>\n",
       "      <td>00:01</td>\n",
       "    </tr>\n",
       "    <tr>\n",
       "      <td>3</td>\n",
       "      <td>0.179665</td>\n",
       "      <td>0.178729</td>\n",
       "      <td>0.203679</td>\n",
       "      <td>00:01</td>\n",
       "    </tr>\n",
       "    <tr>\n",
       "      <td>4</td>\n",
       "      <td>0.179366</td>\n",
       "      <td>0.178033</td>\n",
       "      <td>0.228775</td>\n",
       "      <td>00:01</td>\n",
       "    </tr>\n",
       "    <tr>\n",
       "      <td>5</td>\n",
       "      <td>0.179014</td>\n",
       "      <td>0.176945</td>\n",
       "      <td>0.250143</td>\n",
       "      <td>00:01</td>\n",
       "    </tr>\n",
       "    <tr>\n",
       "      <td>6</td>\n",
       "      <td>0.178602</td>\n",
       "      <td>0.175029</td>\n",
       "      <td>0.289143</td>\n",
       "      <td>00:01</td>\n",
       "    </tr>\n",
       "    <tr>\n",
       "      <td>7</td>\n",
       "      <td>0.177946</td>\n",
       "      <td>0.171027</td>\n",
       "      <td>0.352468</td>\n",
       "      <td>00:01</td>\n",
       "    </tr>\n",
       "    <tr>\n",
       "      <td>8</td>\n",
       "      <td>0.176338</td>\n",
       "      <td>0.164895</td>\n",
       "      <td>0.396136</td>\n",
       "      <td>00:01</td>\n",
       "    </tr>\n",
       "    <tr>\n",
       "      <td>9</td>\n",
       "      <td>0.173490</td>\n",
       "      <td>0.157322</td>\n",
       "      <td>0.405480</td>\n",
       "      <td>00:01</td>\n",
       "    </tr>\n",
       "    <tr>\n",
       "      <td>10</td>\n",
       "      <td>0.166507</td>\n",
       "      <td>0.145020</td>\n",
       "      <td>0.432024</td>\n",
       "      <td>00:01</td>\n",
       "    </tr>\n",
       "    <tr>\n",
       "      <td>11</td>\n",
       "      <td>0.150122</td>\n",
       "      <td>0.139409</td>\n",
       "      <td>0.406573</td>\n",
       "      <td>00:01</td>\n",
       "    </tr>\n",
       "    <tr>\n",
       "      <td>12</td>\n",
       "      <td>0.112806</td>\n",
       "      <td>0.151245</td>\n",
       "      <td>0.242496</td>\n",
       "      <td>00:01</td>\n",
       "    </tr>\n",
       "    <tr>\n",
       "      <td>13</td>\n",
       "      <td>0.091888</td>\n",
       "      <td>0.147225</td>\n",
       "      <td>0.259661</td>\n",
       "      <td>00:01</td>\n",
       "    </tr>\n",
       "    <tr>\n",
       "      <td>14</td>\n",
       "      <td>0.093092</td>\n",
       "      <td>0.134118</td>\n",
       "      <td>0.330245</td>\n",
       "      <td>00:01</td>\n",
       "    </tr>\n",
       "    <tr>\n",
       "      <td>15</td>\n",
       "      <td>0.079503</td>\n",
       "      <td>0.127339</td>\n",
       "      <td>0.360524</td>\n",
       "      <td>00:01</td>\n",
       "    </tr>\n",
       "    <tr>\n",
       "      <td>16</td>\n",
       "      <td>0.066946</td>\n",
       "      <td>0.123373</td>\n",
       "      <td>0.377670</td>\n",
       "      <td>00:01</td>\n",
       "    </tr>\n",
       "    <tr>\n",
       "      <td>17</td>\n",
       "      <td>0.059357</td>\n",
       "      <td>0.119408</td>\n",
       "      <td>0.392566</td>\n",
       "      <td>00:01</td>\n",
       "    </tr>\n",
       "    <tr>\n",
       "      <td>18</td>\n",
       "      <td>0.055211</td>\n",
       "      <td>0.115639</td>\n",
       "      <td>0.404702</td>\n",
       "      <td>00:01</td>\n",
       "    </tr>\n",
       "    <tr>\n",
       "      <td>19</td>\n",
       "      <td>0.052592</td>\n",
       "      <td>0.112473</td>\n",
       "      <td>0.415865</td>\n",
       "      <td>00:01</td>\n",
       "    </tr>\n",
       "  </tbody>\n",
       "</table>"
      ],
      "text/plain": [
       "<IPython.core.display.HTML object>"
      ]
     },
     "metadata": {},
     "output_type": "display_data"
    }
   ],
   "source": [
    "b_learn.fit(20, 0.1)"
   ]
  },
  {
   "cell_type": "markdown",
   "metadata": {},
   "source": [
    "The model got even worse!\n",
    "\n",
    "*What is going on here?*\n",
    "Frankly, I don't know. Perhaps I should pick other *learning rate*? Or my loss function is off. Maybe I'm missing something wholly different.\n",
    "\n",
    "But glance at the internet reveals there might be other problems: \n",
    "* *overfitting* caused by more layers\n",
    "* problem with *initializing the weights*\n",
    "* problem with gradients (e.g. *vanishing gradient*)\n",
    "\n",
    "Since I'm still only at the beginning of my ML journey, I can't easily solve the problem. I hope to update this blog when I'll find out what's the deal here."
   ]
  },
  {
   "cell_type": "markdown",
   "metadata": {},
   "source": [
    "### Final remarks"
   ]
  },
  {
   "cell_type": "markdown",
   "metadata": {},
   "source": [
    "In this blog, we've gone through comparing images by pixel similarity to working neural network learning through SGD. Even if the results were a bit disappointing, it was clear that the model *learned* and gradually improved the performance - even with starting out with completely random values!\n",
    "\n",
    "I was surprised by the simplicity of the SGD. You pick a random weights and the nudge them into the right direction to minimize the loss function, and you can adjust the \"nudge\" by how steep the change is. So cool!"
   ]
  }
 ],
 "metadata": {
  "kernelspec": {
   "display_name": "Python 3",
   "language": "python",
   "name": "python3"
  },
  "language_info": {
   "codemirror_mode": {
    "name": "ipython",
    "version": 3
   },
   "file_extension": ".py",
   "mimetype": "text/x-python",
   "name": "python",
   "nbconvert_exporter": "python",
   "pygments_lexer": "ipython3",
   "version": "3.8.5"
  }
 },
 "nbformat": 4,
 "nbformat_minor": 4
}
